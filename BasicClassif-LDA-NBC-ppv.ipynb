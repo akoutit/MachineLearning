{
 "cells": [
  {
   "cell_type": "markdown",
   "metadata": {},
   "source": [
    "# Implémentation de méthodes élémentaires pour la classification supervisée : ADL, ADQ, Naive Bayes et classifieur par plus proches voisins"
   ]
  },
  {
   "cell_type": "markdown",
   "metadata": {},
   "source": [
    "Pour ce TP, nous aurons besoin des modules Python ci-dessous, il vous faut donc évidemment exécuter cette première cellule."
   ]
  },
  {
   "cell_type": "code",
   "execution_count": 1,
   "metadata": {},
   "outputs": [],
   "source": [
    "%matplotlib inline\n",
    "import pandas as pd\n",
    "import numpy as np\n",
    "from scipy.stats import multivariate_normal\n",
    "from sklearn.metrics import confusion_matrix\n",
    "from sklearn.model_selection import train_test_split\n",
    "from sklearn.covariance import empirical_covariance\n",
    "from scipy.stats import multivariate_normal\n",
    "from sklearn.metrics import confusion_matrix\n",
    "from sklearn.linear_model import LogisticRegression\n",
    "from sklearn.naive_bayes import GaussianNB\n",
    "from sklearn.neighbors import KDTree"
   ]
  },
  {
   "cell_type": "markdown",
   "metadata": {},
   "source": [
    "Le jeu de données [Vertebral Column](https://archive.ics.uci.edu/ml/datasets/Vertebral+Column) permet d'étudier les pathologies d'hernie discale et de Spondylolisthesis. Ces deux pathologies sont regroupées dans le jeu de données en une seule catégorie dite `Abnormale`. \n",
    "\n",
    "Il s'agit donc d'un problème de classification supervisée à deux classes :\n",
    "- Normale (NO) \n",
    "- Abnormale (AB)    \n",
    "\n",
    "avec 6 variables bio-mécaniques disponibles (features).\n",
    "\n",
    "L'objectif du TP est d'implémenter quelques méthodes simples de classification supervisée pour ce problème."
   ]
  },
  {
   "cell_type": "markdown",
   "metadata": {},
   "source": [
    "# Importation des données"
   ]
  },
  {
   "cell_type": "markdown",
   "metadata": {},
   "source": [
    "> Télécharger le fichier column_2C.dat depuis le site de l'UCI à [cette adresse](https://archive.ics.uci.edu/ml/datasets/Vertebral+Column). \n",
    ">\n",
    "> On peut importer les données sous python par exemple avec la librairie [pandas](https://pandas.pydata.org/pandas-docs/stable/10min.html). Vous pourrez au besoin consulter la documentation de la fonction [read_csv](https://pandas.pydata.org/pandas-docs/stable/reference/api/pandas.read_csv.html). \n",
    "> \n",
    "> Le chemin donné dans la fonction `read_csv`est une chaîne de caractère qui spécifie le chemin complet vers le ficher sur votre machine. On peut aussi donner une adresse url si le fichier est disponible en ligne.\n",
    ">\n",
    "> Attention à la syntaxe pour les chemins sous Windows doit etre de la forme  `C:/truc/machin.csv`. \n",
    "> \n",
    "> Voir ce [blog](https://medium.com/@ageitgey/python-3-quick-tip-the-easy-way-to-deal-with-file-paths-on-windows-mac-and-linux-11a072b58d5f) pour en savoir plus sur la \"manipulation des chemins\" sur des OS variés. "
   ]
  },
  {
   "cell_type": "code",
   "execution_count": 2,
   "metadata": {},
   "outputs": [],
   "source": [
    "file_path= 'column_2C.dat'\n",
    "\n",
    "vertebral = pd.read_csv(file_path,\n",
    "                          delim_whitespace= '\\t')\n",
    "\n",
    "vertebral.columns = [\"pelvic_incidence\",\n",
    "                                       \"pelvic_tilt\",\n",
    "                                       \"lumbar_lordosis_angle\",\n",
    "                                       \"sacral_slope\",\n",
    "                                       \"pelvic_radius\",\n",
    "                                       \"degree_spondylolisthesis\",\n",
    "                                       \"class\"]"
   ]
  },
  {
   "cell_type": "markdown",
   "metadata": {},
   "source": [
    "> Vérifier à l'aide des méthodes `.head()`  et `describe()` que les données sont bien importées."
   ]
  },
  {
   "cell_type": "code",
   "execution_count": 3,
   "metadata": {},
   "outputs": [
    {
     "data": {
      "text/html": [
       "<div>\n",
       "<style scoped>\n",
       "    .dataframe tbody tr th:only-of-type {\n",
       "        vertical-align: middle;\n",
       "    }\n",
       "\n",
       "    .dataframe tbody tr th {\n",
       "        vertical-align: top;\n",
       "    }\n",
       "\n",
       "    .dataframe thead th {\n",
       "        text-align: right;\n",
       "    }\n",
       "</style>\n",
       "<table border=\"1\" class=\"dataframe\">\n",
       "  <thead>\n",
       "    <tr style=\"text-align: right;\">\n",
       "      <th></th>\n",
       "      <th>pelvic_incidence</th>\n",
       "      <th>pelvic_tilt</th>\n",
       "      <th>lumbar_lordosis_angle</th>\n",
       "      <th>sacral_slope</th>\n",
       "      <th>pelvic_radius</th>\n",
       "      <th>degree_spondylolisthesis</th>\n",
       "      <th>class</th>\n",
       "    </tr>\n",
       "  </thead>\n",
       "  <tbody>\n",
       "    <tr>\n",
       "      <th>0</th>\n",
       "      <td>39.06</td>\n",
       "      <td>10.06</td>\n",
       "      <td>25.02</td>\n",
       "      <td>29.00</td>\n",
       "      <td>114.41</td>\n",
       "      <td>4.56</td>\n",
       "      <td>AB</td>\n",
       "    </tr>\n",
       "    <tr>\n",
       "      <th>1</th>\n",
       "      <td>68.83</td>\n",
       "      <td>22.22</td>\n",
       "      <td>50.09</td>\n",
       "      <td>46.61</td>\n",
       "      <td>105.99</td>\n",
       "      <td>-3.53</td>\n",
       "      <td>AB</td>\n",
       "    </tr>\n",
       "    <tr>\n",
       "      <th>2</th>\n",
       "      <td>69.30</td>\n",
       "      <td>24.65</td>\n",
       "      <td>44.31</td>\n",
       "      <td>44.64</td>\n",
       "      <td>101.87</td>\n",
       "      <td>11.21</td>\n",
       "      <td>AB</td>\n",
       "    </tr>\n",
       "    <tr>\n",
       "      <th>3</th>\n",
       "      <td>49.71</td>\n",
       "      <td>9.65</td>\n",
       "      <td>28.32</td>\n",
       "      <td>40.06</td>\n",
       "      <td>108.17</td>\n",
       "      <td>7.92</td>\n",
       "      <td>AB</td>\n",
       "    </tr>\n",
       "    <tr>\n",
       "      <th>4</th>\n",
       "      <td>40.25</td>\n",
       "      <td>13.92</td>\n",
       "      <td>25.12</td>\n",
       "      <td>26.33</td>\n",
       "      <td>130.33</td>\n",
       "      <td>2.23</td>\n",
       "      <td>AB</td>\n",
       "    </tr>\n",
       "  </tbody>\n",
       "</table>\n",
       "</div>"
      ],
      "text/plain": [
       "   pelvic_incidence  pelvic_tilt  lumbar_lordosis_angle  sacral_slope  \\\n",
       "0             39.06        10.06                  25.02         29.00   \n",
       "1             68.83        22.22                  50.09         46.61   \n",
       "2             69.30        24.65                  44.31         44.64   \n",
       "3             49.71         9.65                  28.32         40.06   \n",
       "4             40.25        13.92                  25.12         26.33   \n",
       "\n",
       "   pelvic_radius  degree_spondylolisthesis class  \n",
       "0         114.41                      4.56    AB  \n",
       "1         105.99                     -3.53    AB  \n",
       "2         101.87                     11.21    AB  \n",
       "3         108.17                      7.92    AB  \n",
       "4         130.33                      2.23    AB  "
      ]
     },
     "execution_count": 3,
     "metadata": {},
     "output_type": "execute_result"
    }
   ],
   "source": [
    "vertebral.head()"
   ]
  },
  {
   "cell_type": "code",
   "execution_count": 4,
   "metadata": {},
   "outputs": [
    {
     "data": {
      "text/plain": [
       "(309, 7)"
      ]
     },
     "execution_count": 4,
     "metadata": {},
     "output_type": "execute_result"
    }
   ],
   "source": [
    "np.shape(vertebral)"
   ]
  },
  {
   "cell_type": "code",
   "execution_count": 5,
   "metadata": {},
   "outputs": [
    {
     "data": {
      "text/html": [
       "<div>\n",
       "<style scoped>\n",
       "    .dataframe tbody tr th:only-of-type {\n",
       "        vertical-align: middle;\n",
       "    }\n",
       "\n",
       "    .dataframe tbody tr th {\n",
       "        vertical-align: top;\n",
       "    }\n",
       "\n",
       "    .dataframe thead th {\n",
       "        text-align: right;\n",
       "    }\n",
       "</style>\n",
       "<table border=\"1\" class=\"dataframe\">\n",
       "  <thead>\n",
       "    <tr style=\"text-align: right;\">\n",
       "      <th></th>\n",
       "      <th>pelvic_incidence</th>\n",
       "      <th>pelvic_tilt</th>\n",
       "      <th>lumbar_lordosis_angle</th>\n",
       "      <th>sacral_slope</th>\n",
       "      <th>pelvic_radius</th>\n",
       "      <th>degree_spondylolisthesis</th>\n",
       "    </tr>\n",
       "  </thead>\n",
       "  <tbody>\n",
       "    <tr>\n",
       "      <th>count</th>\n",
       "      <td>309.000000</td>\n",
       "      <td>309.000000</td>\n",
       "      <td>309.000000</td>\n",
       "      <td>309.000000</td>\n",
       "      <td>309.000000</td>\n",
       "      <td>309.000000</td>\n",
       "    </tr>\n",
       "    <tr>\n",
       "      <th>mean</th>\n",
       "      <td>60.488285</td>\n",
       "      <td>17.526699</td>\n",
       "      <td>51.970583</td>\n",
       "      <td>42.961877</td>\n",
       "      <td>117.982848</td>\n",
       "      <td>26.382654</td>\n",
       "    </tr>\n",
       "    <tr>\n",
       "      <th>std</th>\n",
       "      <td>17.263462</td>\n",
       "      <td>10.020300</td>\n",
       "      <td>18.570553</td>\n",
       "      <td>13.443779</td>\n",
       "      <td>13.293909</td>\n",
       "      <td>37.589284</td>\n",
       "    </tr>\n",
       "    <tr>\n",
       "      <th>min</th>\n",
       "      <td>26.150000</td>\n",
       "      <td>-6.550000</td>\n",
       "      <td>14.000000</td>\n",
       "      <td>13.370000</td>\n",
       "      <td>70.080000</td>\n",
       "      <td>-11.060000</td>\n",
       "    </tr>\n",
       "    <tr>\n",
       "      <th>25%</th>\n",
       "      <td>46.430000</td>\n",
       "      <td>10.660000</td>\n",
       "      <td>37.000000</td>\n",
       "      <td>33.340000</td>\n",
       "      <td>110.710000</td>\n",
       "      <td>1.630000</td>\n",
       "    </tr>\n",
       "    <tr>\n",
       "      <th>50%</th>\n",
       "      <td>58.600000</td>\n",
       "      <td>16.300000</td>\n",
       "      <td>49.780000</td>\n",
       "      <td>42.440000</td>\n",
       "      <td>118.340000</td>\n",
       "      <td>12.070000</td>\n",
       "    </tr>\n",
       "    <tr>\n",
       "      <th>75%</th>\n",
       "      <td>72.960000</td>\n",
       "      <td>21.940000</td>\n",
       "      <td>63.000000</td>\n",
       "      <td>52.740000</td>\n",
       "      <td>125.480000</td>\n",
       "      <td>41.420000</td>\n",
       "    </tr>\n",
       "    <tr>\n",
       "      <th>max</th>\n",
       "      <td>129.830000</td>\n",
       "      <td>49.430000</td>\n",
       "      <td>125.740000</td>\n",
       "      <td>121.430000</td>\n",
       "      <td>163.070000</td>\n",
       "      <td>418.540000</td>\n",
       "    </tr>\n",
       "  </tbody>\n",
       "</table>\n",
       "</div>"
      ],
      "text/plain": [
       "       pelvic_incidence  pelvic_tilt  lumbar_lordosis_angle  sacral_slope  \\\n",
       "count        309.000000   309.000000             309.000000    309.000000   \n",
       "mean          60.488285    17.526699              51.970583     42.961877   \n",
       "std           17.263462    10.020300              18.570553     13.443779   \n",
       "min           26.150000    -6.550000              14.000000     13.370000   \n",
       "25%           46.430000    10.660000              37.000000     33.340000   \n",
       "50%           58.600000    16.300000              49.780000     42.440000   \n",
       "75%           72.960000    21.940000              63.000000     52.740000   \n",
       "max          129.830000    49.430000             125.740000    121.430000   \n",
       "\n",
       "       pelvic_radius  degree_spondylolisthesis  \n",
       "count     309.000000                309.000000  \n",
       "mean      117.982848                 26.382654  \n",
       "std        13.293909                 37.589284  \n",
       "min        70.080000                -11.060000  \n",
       "25%       110.710000                  1.630000  \n",
       "50%       118.340000                 12.070000  \n",
       "75%       125.480000                 41.420000  \n",
       "max       163.070000                418.540000  "
      ]
     },
     "execution_count": 5,
     "metadata": {},
     "output_type": "execute_result"
    }
   ],
   "source": [
    "vertebral.describe()"
   ]
  },
  {
   "cell_type": "markdown",
   "metadata": {},
   "source": [
    "> Les librairies de Machine Learning telles que `sckitlearn` prennent en entrée des tableau numpy (pas des objets pandas). Créer un tableau numpy que vous nommerez `VertebralVar` pour les features et un vecteur numpy `VertebralClas` pour la variable de classe. Voir par exemple [ici](https://pandas.pydata.org/pandas-docs/stable/reference/api/pandas.DataFrame.to_numpy.html#pandas.DataFrame.to_numpy)."
   ]
  },
  {
   "cell_type": "code",
   "execution_count": 6,
   "metadata": {},
   "outputs": [],
   "source": [
    "vertebral_without_class = (vertebral.iloc[:,:6])\n",
    "vertebral_class = (vertebral.iloc[:,6])\n",
    "vertebralVar  = vertebral_without_class.to_numpy()\n",
    "vertebralClas = vertebral_class.to_numpy()"
   ]
  },
  {
   "cell_type": "markdown",
   "metadata": {},
   "source": [
    "# Découpage train / test"
   ]
  },
  {
   "cell_type": "markdown",
   "metadata": {},
   "source": [
    "En apprentissage statistique, classiquement un prédicteur est ajusté sur une partie seulement des données et l'erreur de ce dernier est ensuite évaluée sur une autre partie des données disponibles. Ceci permet de ne pas utiliser les mêmes données pour ajuster et évaluer la qualité d'un prédicteur. Cette problématique est l'objet du prochain chapitre."
   ]
  },
  {
   "cell_type": "markdown",
   "metadata": {},
   "source": [
    "> En utilisant la fonction [`train_test_split`](http://scikit-learn.org/stable/modules/generated/sklearn.model_selection.train_test_split.html#sklearn.model_selection.train_test_split) de la librairie [`sklearn.model_selection`](http://scikit-learn.org/stable/modules/classes.html#module-sklearn.model_selection), sélectionner aléatoirement 60% des observations pour l'échantillon d'apprentissage et garder le reste pour l'échantillon de test. "
   ]
  },
  {
   "cell_type": "code",
   "execution_count": 7,
   "metadata": {},
   "outputs": [
    {
     "name": "stdout",
     "output_type": "stream",
     "text": [
      "309 185 124\n"
     ]
    }
   ],
   "source": [
    "vertebralVar_train,vertebralVar_test,vertebralClas_train, vertebralClas_test = train_test_split(vertebralVar, vertebralClas, test_size=0.4, random_state=42)\n",
    "ntot = vertebralVar.shape[0]\n",
    "ntrain = vertebralClas_train.shape[0]\n",
    "ntest = vertebralClas_test.shape[0]\n",
    "\n",
    "print(ntot,ntrain,ntest)"
   ]
  },
  {
   "cell_type": "markdown",
   "metadata": {},
   "source": [
    "Remarque : on peut aussi le faire à la main avec la fonction [`sklearn.utils.shuffle`](https://scikit-learn.org/stable/modules/generated/sklearn.utils.shuffle.html)."
   ]
  },
  {
   "cell_type": "markdown",
   "metadata": {},
   "source": [
    "# Extraction des deux classes"
   ]
  },
  {
   "cell_type": "markdown",
   "metadata": {},
   "source": [
    "> Extraire les deux sous-échantillons de classes respectives \"Abnormale\" et \"Normale\" pour les données d'apprentissage et de test."
   ]
  },
  {
   "cell_type": "code",
   "execution_count": 8,
   "metadata": {},
   "outputs": [
    {
     "name": "stdout",
     "output_type": "stream",
     "text": [
      "(185,)\n",
      "(118, 6)\n",
      "(124,)\n",
      "(91, 6)\n"
     ]
    }
   ],
   "source": [
    "vertebralVar_train_AB = vertebralVar_train[vertebralClas_train=='AB']\n",
    "vertebralVar_train_NO = vertebralVar_train[vertebralClas_train=='NO']\n",
    "vertebralVar_test_AB = vertebralVar_test[vertebralClas_test=='AB']\n",
    "vertebralVar_test_NO = vertebralVar_test[vertebralClas_test=='NO']\n",
    "print(vertebralClas_train.shape)\n",
    "print(vertebralVar_train_AB.shape)\n",
    "print(vertebralClas_test.shape)\n",
    "print(vertebralVar_test_AB.shape)"
   ]
  },
  {
   "cell_type": "code",
   "execution_count": 9,
   "metadata": {},
   "outputs": [
    {
     "name": "stdout",
     "output_type": "stream",
     "text": [
      "118\n",
      "67\n"
     ]
    }
   ],
   "source": [
    "n_AB = len(vertebralVar_train_AB)\n",
    "n_NO = len(vertebralVar_train_NO)\n",
    "print(n_AB)\n",
    "print(n_NO)"
   ]
  },
  {
   "cell_type": "markdown",
   "metadata": {},
   "source": [
    "# Analyse Discriminante Linéaire (LDA)"
   ]
  },
  {
   "cell_type": "markdown",
   "metadata": {},
   "source": [
    "Nous allons ajuster à la main le classifieur de l'analyse discriminante linéaire sur l'échantillon d'apprentissage et ensuite évaluer ses performances en considérant ses prédictions sur l'échantillon de test.\n",
    "\n",
    "- Pour calculer la matrice de covariance on peut utiliser \n",
    "par exemple la fonction [`empirical_covariance`](https://scikit-learn.org/stable/modules/generated/sklearn.covariance.empirical_covariance.html#sklearn.covariance.empirical_covariance) de la librairie  [`sklearn.covariance`](http://scikit-learn.org/stable/modules/covariance.html).\n",
    "- Pour calculer la valeur de la densité d'une gaussienne multidimensionnelle en un point $x$ de $\\mathbb R ^d$ on peut utililser la fonction [`multivariate_normal`](https://docs.scipy.org/doc/scipy-0.14.0/reference/generated/scipy.stats.multivariate_normal.html) de la librairie [`scipy.stats`](https://docs.scipy.org/doc/scipy/reference/stats.html). "
   ]
  },
  {
   "cell_type": "markdown",
   "metadata": {},
   "source": [
    "D'abord on calcule le centre et la matrice de covariance pour chacun des deux groupes  :"
   ]
  },
  {
   "cell_type": "code",
   "execution_count": 10,
   "metadata": {},
   "outputs": [],
   "source": [
    "Cov_AB = empirical_covariance(vertebralVar_train_AB)\n",
    "Cov_NO = empirical_covariance(vertebralVar_train_NO)\n",
    "mean_AB = np.mean(vertebralVar_train_AB,axis=0)\n",
    "mean_NO = np.mean(vertebralVar_train_NO,axis=0)"
   ]
  },
  {
   "cell_type": "markdown",
   "metadata": {},
   "source": [
    "#### Puis on calcule la matrice de covariance intra (voir le cours ...)"
   ]
  },
  {
   "cell_type": "code",
   "execution_count": 11,
   "metadata": {},
   "outputs": [
    {
     "name": "stdout",
     "output_type": "stream",
     "text": [
      "[ 65.63135593  21.07822034  55.58898305  44.55364407 114.40728814\n",
      "  37.70677966]\n",
      "[ 50.22402985  12.54283582  43.34044776  37.68179104 124.41910448\n",
      "   2.68447761]\n"
     ]
    }
   ],
   "source": [
    "print(mean_AB)\n",
    "print(mean_NO)"
   ]
  },
  {
   "cell_type": "code",
   "execution_count": 12,
   "metadata": {},
   "outputs": [
    {
     "name": "stdout",
     "output_type": "stream",
     "text": [
      "(6, 6)\n"
     ]
    }
   ],
   "source": [
    "Intra_Cov = (n_AB/ntrain)*Cov_AB + (n_NO/ntrain)*Cov_NO\n",
    "print(Intra_Cov.shape)"
   ]
  },
  {
   "cell_type": "markdown",
   "metadata": {},
   "source": [
    "Pour une observation $x \\in \\mathbb R^6$ (décrite par ses 6 features), la régle du MAP (Maximum A Posteriori) dans le cas de l'analyse discriminante linéaire consiste à choisir la catégorie $\\hat y (x) = \\hat k $ qui maximise (en $k$) \n",
    "$$ score_k(x) = \\hat \\pi_k \\hat f_k(x) $$\n",
    "où :\n",
    "- $k$ est le numéro de la classe ;\n",
    "- $\\hat \\pi_k$ est la proportion observée de la classe $k$, \n",
    "- $\\hat f_k$ est la densité gaussienne multidimensionnelle de la classe $k$ (avec pour paramètre de centrage $\\mu_k$ et pour matrice de covariance Intra (pour toutes les classes).\n",
    "\n",
    "On calcule tout d'abord pour toutes les données de test les valeurs des scores sur les deux catégories :"
   ]
  },
  {
   "cell_type": "code",
   "execution_count": 13,
   "metadata": {},
   "outputs": [],
   "source": [
    "score_LDA_test = [[(n_NO/ntrain) *multivariate_normal.pdf(x,mean_NO,Intra_Cov),(n_AB/ntrain)*multivariate_normal.pdf(x,mean_AB,Intra_Cov)]\n",
    "                  for x in vertebralVar_test]\n",
    "\n",
    "# score_LDA_test = [   [ ### TO DO : score normal ####   ,  ### TO DO : score abnormal ####     ]  for x in VertebralVar_test] "
   ]
  },
  {
   "cell_type": "code",
   "execution_count": 14,
   "metadata": {},
   "outputs": [
    {
     "data": {
      "text/plain": [
       "[<matplotlib.lines.Line2D at 0x29ac5decd60>,\n",
       " <matplotlib.lines.Line2D at 0x29ac5decdc0>]"
      ]
     },
     "execution_count": 14,
     "metadata": {},
     "output_type": "execute_result"
    },
    {
     "data": {
      "image/png": "[encoded data removed]",
      "text/plain": [
       "<Figure size 432x288 with 1 Axes>"
      ]
     },
     "metadata": {
      "needs_background": "light"
     },
     "output_type": "display_data"
    }
   ],
   "source": [
    "import matplotlib.pyplot as plt\n",
    "plt.plot(score_LDA_test)\n"
   ]
  },
  {
   "cell_type": "markdown",
   "metadata": {},
   "source": [
    "et on choisit la classe qui maximise le score (pour chaque élement des données de test):"
   ]
  },
  {
   "cell_type": "code",
   "execution_count": 15,
   "metadata": {},
   "outputs": [
    {
     "name": "stdout",
     "output_type": "stream",
     "text": [
      "[[1], [0], [1], [0], [1], [1], [0], [0], [1], [0], [0], [1], [1], [1], [1], [1], [1], [0], [0], [0], [0], [0], [0], [0], [0], [0], [0], [0], [1], [1], [0], [0], [1], [1], [0], [0], [0], [1], [0], [0], [1], [0], [1], [1], [1], [0], [1], [1], [1], [0], [0], [1], [0], [1], [0], [1], [1], [0], [0], [1], [1], [0], [0], [0], [1], [1], [0], [0], [0], [0], [0], [1], [0], [0], [1], [1], [0], [0], [0], [0], [1], [0], [0], [0], [0], [0], [0], [0], [0], [1], [1], [0], [0], [0], [0], [0], [0], [1], [1], [1], [0], [0], [1], [1], [1], [0], [0], [1], [1], [0], [0], [0], [0], [0], [1], [0], [1], [1], [0], [0], [0], [0], [0], [0]]\n"
     ]
    }
   ],
   "source": [
    "# pred_LDA_test = ### TO DO #### \n",
    "# pred_LDA_test\n",
    "# # VertebralClas_test  # pour comparaison\n",
    "\n",
    "pred_LDA_test = [[0 if np.argmax(S)==1 else 1] for S in score_LDA_test]\n",
    "print((pred_LDA_test))"
   ]
  },
  {
   "cell_type": "markdown",
   "metadata": {},
   "source": [
    "La matrice de confusion est une matrice qui synthétise les performances d'une régle de classification. Chaque ligne correspond à une classe réelle, chaque colonne correspond à une classe estimée. La cellule (ligne L, colonne C) contient le nombre d'éléments de la classe réelle L qui ont été estimés comme appartenant à la classe C. Voir par exemple [ici](https://fr.wikipedia.org/wiki/Matrice_de_confusion).\n",
    "\n",
    "\n",
    "> Evaluer les performances de la méthode sur l'échantillon test. Vous pourrez utiliser la fonction [`confusion_matrix`](http://scikit-learn.org/stable/modules/generated/sklearn.metrics.confusion_matrix.html#sklearn.metrics.confusion_matrix) de la librairie [`sklearn.metrics`](http://scikit-learn.org/stable/modules/classes.html#module-sklearn.metrics)."
   ]
  },
  {
   "cell_type": "code",
   "execution_count": 16,
   "metadata": {},
   "outputs": [
    {
     "name": "stdout",
     "output_type": "stream",
     "text": [
      "['NO' 'AB' 'AB' 'AB' 'AB' 'AB' 'AB' 'AB' 'NO' 'AB' 'AB' 'AB' 'NO' 'NO'\n",
      " 'NO' 'NO' 'AB' 'AB' 'AB' 'AB' 'AB' 'AB' 'AB' 'AB' 'AB' 'AB' 'AB' 'AB'\n",
      " 'NO' 'NO' 'AB' 'AB' 'AB' 'NO' 'AB' 'AB' 'AB' 'AB' 'AB' 'AB' 'AB' 'AB'\n",
      " 'AB' 'NO' 'NO' 'AB' 'NO' 'AB' 'NO' 'AB' 'AB' 'NO' 'AB' 'AB' 'AB' 'NO'\n",
      " 'NO' 'AB' 'AB' 'NO' 'NO' 'AB' 'AB' 'AB' 'NO' 'NO' 'AB' 'AB' 'AB' 'AB'\n",
      " 'AB' 'AB' 'AB' 'AB' 'AB' 'NO' 'AB' 'AB' 'AB' 'AB' 'NO' 'AB' 'AB' 'AB'\n",
      " 'AB' 'NO' 'AB' 'AB' 'AB' 'NO' 'AB' 'AB' 'AB' 'NO' 'NO' 'AB' 'AB' 'AB'\n",
      " 'NO' 'NO' 'AB' 'AB' 'NO' 'AB' 'AB' 'AB' 'AB' 'NO' 'AB' 'AB' 'AB' 'AB'\n",
      " 'AB' 'AB' 'NO' 'AB' 'AB' 'NO' 'AB' 'AB' 'AB' 'AB' 'NO' 'AB']\n"
     ]
    }
   ],
   "source": [
    "print(vertebralClas_test)"
   ]
  },
  {
   "cell_type": "code",
   "execution_count": 17,
   "metadata": {},
   "outputs": [
    {
     "data": {
      "text/plain": [
       "array([[0.79120879, 0.20879121],\n",
       "       [0.12121212, 0.87878788]])"
      ]
     },
     "execution_count": 17,
     "metadata": {},
     "output_type": "execute_result"
    }
   ],
   "source": [
    "vraie_classe_test = 1 * (vertebralClas_test == \"NO\") \n",
    "cnf_matrix_LDA_test = confusion_matrix(vraie_classe_test,pred_LDA_test)\n",
    "cnf_matrix_LDA_test.astype('float') / cnf_matrix_LDA_test.sum(axis=1).reshape(-1,1) "
   ]
  },
  {
   "cell_type": "markdown",
   "metadata": {},
   "source": [
    "Nos résultats stipulent que l'on a eu 79% de bonnes réponses pour la classe 0 et 87.9 % de bonnes réponses pour la classe 1. Ce sont de bons résultats pour une classification binaire."
   ]
  },
  {
   "cell_type": "markdown",
   "metadata": {},
   "source": [
    "> Vérifier que l'évaluation de la méthode sur les données d'apprentissage donne un résulat sensiblement plus optimiste."
   ]
  },
  {
   "cell_type": "code",
   "execution_count": 18,
   "metadata": {},
   "outputs": [
    {
     "data": {
      "text/plain": [
       "array([[0.84745763, 0.15254237],\n",
       "       [0.1641791 , 0.8358209 ]])"
      ]
     },
     "execution_count": 18,
     "metadata": {},
     "output_type": "execute_result"
    }
   ],
   "source": [
    "score_LDA_train =  [[(n_NO/ntrain)*multivariate_normal.pdf(x,mean_NO,Intra_Cov),(n_AB/ntrain)*multivariate_normal.pdf(x,mean_AB,Intra_Cov)]  for x in vertebralVar_train]\n",
    "pred_LDA_train = [[0 if np.argmax(S)==1 else 1] for S in score_LDA_train]\n",
    "vraie_classe_train = 1 * (vertebralClas_train == \"NO\") \n",
    "cnf_matrix_LDA_train =  confusion_matrix(vraie_classe_train,pred_LDA_train)\n",
    "cnf_matrix_LDA_train.astype('float') / cnf_matrix_LDA_train.sum(axis=1).reshape(-1,1) "
   ]
  },
  {
   "cell_type": "markdown",
   "metadata": {},
   "source": [
    "En appliquant la méthode sur le train set, nous obtenons de meilleurs résultats de prédiction en moyenne. C'est normal car le principe des techniques de Machine Learning est de tester les modèles sur des données qu'il n'a jamais vu. En infiltrant des données de train pour tester le modèle, on introduit automatiquement un biais dans notre test qui améliore faussement nos résultats de prédictions. Le modèle doit être performant pour des données qu'il n'a jamais vu, c'est ce qui est demandé dans les utilisations réelles."
   ]
  },
  {
   "cell_type": "markdown",
   "metadata": {},
   "source": [
    "Il existe bien sûr une fonction scikit-learn pour la méthode LDA : voir [ici](https://scikit-learn.org/stable/modules/generated/sklearn.discriminant_analysis.LinearDiscriminantAnalysis.html)."
   ]
  },
  {
   "cell_type": "markdown",
   "metadata": {},
   "source": [
    "# Regression logistique"
   ]
  },
  {
   "cell_type": "markdown",
   "metadata": {},
   "source": [
    "> Ajuster un modèle de régression logistique sur les données d'apprentissage en utilisant la fonction  `sklearn.linear_model.LogisticRegression`, voir [ici](https://scikit-learn.org/stable/modules/generated/sklearn.linear_model.LogisticRegression.html).   \n",
    "> Par défaut une penalty $l_2$ est présente dans la fonction de perte (voir la doc). Pour obtenir un ajustement pour la regression logistique standard, il faut donc  prendre garder à préciser `penalty=‘none’` dans les options de la fonction."
   ]
  },
  {
   "cell_type": "code",
   "execution_count": 19,
   "metadata": {},
   "outputs": [],
   "source": [
    "logreg = LogisticRegression(penalty='none',random_state=0).fit(vertebralVar_train, vertebralClas_train)"
   ]
  },
  {
   "cell_type": "markdown",
   "metadata": {},
   "source": [
    "> Afficher les coefficients estimés de la regression logistique "
   ]
  },
  {
   "cell_type": "code",
   "execution_count": 20,
   "metadata": {},
   "outputs": [
    {
     "data": {
      "text/plain": [
       "array([[ 0.02644456, -0.11740681,  0.03053553,  0.04575155,  0.11721625,\n",
       "        -0.16310303]])"
      ]
     },
     "execution_count": 20,
     "metadata": {},
     "output_type": "execute_result"
    }
   ],
   "source": [
    "logreg.coef_"
   ]
  },
  {
   "cell_type": "markdown",
   "metadata": {},
   "source": [
    "> Afficher avec la fonction `predict_proba` les estimations des probabilités a posteriori sur l'échantillon de test."
   ]
  },
  {
   "cell_type": "code",
   "execution_count": 21,
   "metadata": {},
   "outputs": [
    {
     "name": "stdout",
     "output_type": "stream",
     "text": [
      "[[7.41668000e-02 9.25833200e-01]\n",
      " [2.59628259e-01 7.40371741e-01]\n",
      " [3.30056549e-01 6.69943451e-01]\n",
      " [9.99989686e-01 1.03143639e-05]\n",
      " [1.82675746e-01 8.17324254e-01]\n",
      " [1.30787948e-01 8.69212052e-01]\n",
      " [9.97663882e-01 2.33611811e-03]\n",
      " [9.93476906e-01 6.52309377e-03]\n",
      " [6.08401344e-02 9.39159866e-01]\n",
      " [5.38251865e-01 4.61748135e-01]]\n"
     ]
    }
   ],
   "source": [
    "probas = logreg.predict_proba(vertebralVar_test)\n",
    "print(probas[:10])"
   ]
  },
  {
   "cell_type": "markdown",
   "metadata": {},
   "source": [
    "> Afficher la matrice de confusion et comparer avec les résultats avec ceux de la LDA"
   ]
  },
  {
   "cell_type": "code",
   "execution_count": 22,
   "metadata": {},
   "outputs": [
    {
     "data": {
      "text/plain": [
       "array([[0.81318681, 0.18681319],\n",
       "       [0.06060606, 0.93939394]])"
      ]
     },
     "execution_count": 22,
     "metadata": {},
     "output_type": "execute_result"
    }
   ],
   "source": [
    "pred_logreg_test = [['NO' if np.argmax(S)==1 else 'AB'] for S in logreg.predict_proba(vertebralVar_test)]\n",
    "cnf_matrix_logreg_test = confusion_matrix(vertebralClas_test,pred_logreg_test)\n",
    "cnf_matrix_logreg_test.astype('float') / cnf_matrix_logreg_test.sum(axis=1).reshape(-1,1)"
   ]
  },
  {
   "cell_type": "markdown",
   "metadata": {},
   "source": [
    "Nous obtenons une prédiction moyenne de 87.5%, résultat meilleur que pour la LDA dans ce cas (83.5%)"
   ]
  },
  {
   "cell_type": "markdown",
   "metadata": {},
   "source": [
    "> **Bonus** (à faire à la fin si vous le souhaitez) : recoder par vous-même un prédicteur de régression logistique et comparer vos prévisions avec celles obtenues par la fonction de sklearn. Notez que sur ce jeu de données l'estimation du modèle de régression logistique est relativement instable du fait que la fonction de vraisembance correspondante est assez ``plate\"."
   ]
  },
  {
   "cell_type": "markdown",
   "metadata": {},
   "source": [
    "# Analyse Discriminante Quadratique (QDA)"
   ]
  },
  {
   "cell_type": "markdown",
   "metadata": {},
   "source": [
    "> Reprendre et adapter les codes précédents (de la LDA) pour ajuster cette fois un classifieur par analyse discriminante quadratique sur les données d'apprentissage. \n",
    "> \n",
    "> Evaluer la qualité du classifieur sur les données de test."
   ]
  },
  {
   "cell_type": "code",
   "execution_count": 23,
   "metadata": {},
   "outputs": [
    {
     "data": {
      "text/plain": [
       "array([[0.76923077, 0.23076923],\n",
       "       [0.21212121, 0.78787879]])"
      ]
     },
     "execution_count": 23,
     "metadata": {},
     "output_type": "execute_result"
    }
   ],
   "source": [
    "score_QDA_test = [[(n_NO/ntrain)*multivariate_normal.pdf(x,mean_NO,Cov_NO ),(n_AB/ntrain)*multivariate_normal.pdf(x,mean_AB,Cov_AB)]  for x in vertebralVar_test]\n",
    "pred_QDA_test =  [['AB' if np.argmax(S)==1 else 'NO'] for S in score_QDA_test]\n",
    "cnf_matrix_QDA_test = confusion_matrix(vertebralClas_test,pred_QDA_test)\n",
    "cnf_matrix_QDA_test.astype('float') / cnf_matrix_QDA_test.sum(axis=1).reshape(-1,1) \n",
    "#On obtient un taux de prédiction correct à 85%. C'est plus que la LDA et la régression."
   ]
  },
  {
   "cell_type": "markdown",
   "metadata": {},
   "source": [
    "Il existe bien sûr une fonction scikit-learn pour la méthode QDA : voir [ici](\n",
    "https://scikit-learn.org/stable/modules/generated/sklearn.discriminant_analysis.QuadraticDiscriminantAnalysis.html#sklearn.discriminant_analysis.QuadraticDiscriminantAnalysis)."
   ]
  },
  {
   "cell_type": "markdown",
   "metadata": {},
   "source": [
    "# Gaussian Naive Bayes"
   ]
  },
  {
   "cell_type": "markdown",
   "metadata": {},
   "source": [
    "Nous allons maintenant ajuster un classifieur naif bayesien sur les données d'apprentissage.\n",
    "\n",
    "Pour une observation $x \\in \\mathbb R^6$, la régle du MAP consiste cette fois à choisir la catégorie $\\hat y (x) = \\hat k $ qui maximise (en $k$) \n",
    "$$ score_k(x) = \\hat \\pi_k \\prod_{j=1} ^6  \\hat f_{k,j}(x_j)   $$\n",
    "où :\n",
    "- $k$ est le numéro de la classe ;\n",
    "- $\\hat \\pi_k$ est la proportion observée de la classe $k$, \n",
    "- $\\hat f_{k,j} $ est la densité gaussienne univariée de la classe $k$ pour la variable $j$. Les paramètres de cette loi valent (ajustés par maximum de vraisemblance) :\n",
    "    - $\\hat \\mu_{k,j}$ : la moyenne empirique de la variable $X^j$ restreinte à la classe k,\n",
    "    - $ \\hat \\sigma^2_{k,j}$ : la variance empirique de la variable $X^j$ restreinte à la classe k.\n",
    "    \n",
    "Noter que la fonction $x \\mapsto  \\prod_{j=1} ^6  f_{k,j}(x_j) $ peut aussi être vue comme une densité gaussienne multidimensionnelle de moyenne $(\\mu_{k,1}, \\dots, \\mu_{k,6})$ et de matrice de covariance diagonale $diag(\\hat \\sigma^2_{k,1},\\dots,\\hat  \\sigma^2_{k,6})$. Cette remarque évite de devoir calculer le produit de 6 densités univariées, à la place on calcule plus directement la valeur de la densité multidimensionnelle."
   ]
  },
  {
   "cell_type": "markdown",
   "metadata": {},
   "source": [
    "Calcul des moyennes et des variances de chaque variable pour chacun des deux groupes :"
   ]
  },
  {
   "cell_type": "markdown",
   "metadata": {},
   "source": [
    "Au vu de l'indépendance, en hypothèse, sur le modèle Naive Bayes des X sachant Y, calculer les matrices de cov de la sorte est une solution."
   ]
  },
  {
   "cell_type": "code",
   "execution_count": 24,
   "metadata": {},
   "outputs": [],
   "source": [
    "mean_AB = np.mean(vertebralVar_train_AB,axis=0)\n",
    "mean_NO = np.mean(vertebralVar_train_NO,axis=0)\n",
    "\n",
    "# variances estimées coord par coord pour AB (sur le train) :\n",
    "var_AB = np.var(vertebralVar_train_AB,axis=0)\n",
    "# variances estimées coord par coord pour NO (sur le train) :\n",
    "var_NO = np.var(vertebralVar_train_NO,axis=0)\n",
    "\n",
    "# on forme les matrices de covariance (matrices diagonales car indep) :\n",
    "Cov_NB_AB =  np.diag(var_AB) \n",
    "Cov_NB_NO =  np.diag(var_NO)"
   ]
  },
  {
   "cell_type": "markdown",
   "metadata": {},
   "source": [
    "Calcul du \"score\" sur chaque groupe pour chaque element des données test : "
   ]
  },
  {
   "cell_type": "code",
   "execution_count": 25,
   "metadata": {},
   "outputs": [],
   "source": [
    "score_NB_test = [[(n_NO/ntrain)*multivariate_normal.pdf(x,mean_NO,Cov_NB_NO),(n_AB/ntrain)*multivariate_normal.pdf(x,mean_AB,Cov_NB_AB)]  for x in vertebralVar_test]\n",
    "pred_NB_test = [['AB' if np.argmax(S)==1 else 'NO'] for S in score_NB_test]"
   ]
  },
  {
   "cell_type": "markdown",
   "metadata": {},
   "source": [
    "Affichage de la matrice de confusion sur les données de test :"
   ]
  },
  {
   "cell_type": "code",
   "execution_count": 26,
   "metadata": {},
   "outputs": [
    {
     "data": {
      "text/plain": [
       "array([[0.73626374, 0.26373626],\n",
       "       [0.15151515, 0.84848485]])"
      ]
     },
     "execution_count": 26,
     "metadata": {},
     "output_type": "execute_result"
    }
   ],
   "source": [
    "cnf_matrix_NB_test = confusion_matrix(vertebralClas_test,pred_NB_test)\n",
    "cnf_matrix_NB_test.astype('float') / cnf_matrix_NB_test.sum(axis=1).reshape(-1,1) "
   ]
  },
  {
   "cell_type": "markdown",
   "metadata": {},
   "source": [
    ">  Il existe bien sûr une fonction scikit-learn  pour la méthode Naive Bayes : voir [ici](http://scikit-learn.org/stable/modules/naive_bayes.html). Vérifier que votre prédicteur donne la même réponse de cette fonction."
   ]
  },
  {
   "cell_type": "code",
   "execution_count": 27,
   "metadata": {},
   "outputs": [
    {
     "data": {
      "text/plain": [
       "array([[0.73626374, 0.26373626],\n",
       "       [0.15151515, 0.84848485]])"
      ]
     },
     "execution_count": 27,
     "metadata": {},
     "output_type": "execute_result"
    }
   ],
   "source": [
    "gnb = GaussianNB()\n",
    "gnb.fit(vertebralVar_train, vertebralClas_train)\n",
    "gnb.predict(vertebralVar_test)\n",
    "cnf_matrix_gnb_test = confusion_matrix(vertebralClas_test,gnb.predict(vertebralVar_test))\n",
    "cnf_matrix_gnb_test.astype('float') / cnf_matrix_gnb_test.sum(axis=1).reshape(-1,1) "
   ]
  },
  {
   "cell_type": "markdown",
   "metadata": {},
   "source": [
    "Les deux méthodes, celle codée à la main et celle de scikit coïncident bien d'un point de vue prédictions. Les deux manières de faire donnent une moyenne de prédiction de 79%."
   ]
  },
  {
   "cell_type": "markdown",
   "metadata": {},
   "source": [
    "# Classifieur par plus proches voisins"
   ]
  },
  {
   "cell_type": "markdown",
   "metadata": {},
   "source": [
    "Il est préférable d'utiliser la structure de données de type [k-d tree](https://en.wikipedia.org/wiki/K-d_tree) pour effectuer des requêtes de plus proches voisins dans un nuage de points. "
   ]
  },
  {
   "cell_type": "markdown",
   "metadata": {},
   "source": [
    "> Contruction du k-d tree pour les données train (pour la métrique euclidienne) :"
   ]
  },
  {
   "cell_type": "code",
   "execution_count": 28,
   "metadata": {},
   "outputs": [],
   "source": [
    "tree = KDTree(vertebralVar_train)"
   ]
  },
  {
   "cell_type": "markdown",
   "metadata": {},
   "source": [
    "> Rechercher les 10 plus proches voisins dans les données d'apprentissage du premier point des données de test et afficher les classes de ces observations voisines."
   ]
  },
  {
   "cell_type": "code",
   "execution_count": 29,
   "metadata": {},
   "outputs": [
    {
     "name": "stdout",
     "output_type": "stream",
     "text": [
      "[[ 39   1 169 170  57  86 133  87  84  79]]\n",
      "[['NO' 'NO' 'NO' 'NO' 'NO' 'NO' 'NO' 'AB' 'NO' 'NO']]\n"
     ]
    }
   ],
   "source": [
    "indices_voisins =  tree.query(vertebralVar_test[:1],k=10)\n",
    "print(indices_voisins[1])\n",
    "classes_voisins = vertebralClas_train[indices_voisins[1]]\n",
    "print(classes_voisins)  "
   ]
  },
  {
   "cell_type": "markdown",
   "metadata": {},
   "source": [
    "Nous aurons plus tendance à utiliser un chiffre impair de voisins pour ne jamais créer du biais sur l'égalité des voisins en faisant un >= ou un choix random."
   ]
  },
  {
   "cell_type": "markdown",
   "metadata": {},
   "source": [
    "Pour le classifieur par plus proches vosins, la prediction est la classe majoritaire des k plus proches voisins.\n",
    "\n",
    "> Donner la prédiction pour le premier point de test par vote majoritaire sur ses 10 plus proches voisins "
   ]
  },
  {
   "cell_type": "code",
   "execution_count": 30,
   "metadata": {},
   "outputs": [],
   "source": [
    "def predict_kprochevois(x):\n",
    "    \n",
    "    k=0\n",
    "    \n",
    "    for clas in x:\n",
    "        \n",
    "        k = k + int(clas=='AB')\n",
    "        \n",
    "    return('AB' if k>=5 else 'NO')"
   ]
  },
  {
   "cell_type": "markdown",
   "metadata": {},
   "source": [
    "> Donner la prediction du classifieur ppv pour toutes les données de test. Evaluer la qualité du classifieur."
   ]
  },
  {
   "cell_type": "code",
   "execution_count": 31,
   "metadata": {},
   "outputs": [
    {
     "name": "stdout",
     "output_type": "stream",
     "text": [
      "['NO', 'NO', 'NO', 'AB', 'AB', 'AB', 'AB', 'AB', 'NO', 'AB', 'AB', 'AB', 'NO', 'NO', 'NO', 'AB', 'AB', 'AB', 'AB', 'AB', 'AB', 'AB', 'AB', 'AB', 'AB', 'AB', 'AB', 'AB', 'NO', 'NO', 'AB', 'AB', 'AB', 'NO', 'AB', 'AB', 'AB', 'NO', 'AB', 'AB', 'NO', 'AB', 'NO', 'NO', 'NO', 'AB', 'NO', 'NO', 'NO', 'AB', 'AB', 'NO', 'AB', 'NO', 'AB', 'NO', 'NO', 'AB', 'AB', 'NO', 'NO', 'AB', 'AB', 'AB', 'NO', 'NO', 'AB', 'AB', 'AB', 'AB', 'AB', 'NO', 'AB', 'AB', 'NO', 'NO', 'NO', 'AB', 'AB', 'AB', 'NO', 'AB', 'AB', 'AB', 'AB', 'AB', 'AB', 'AB', 'AB', 'NO', 'NO', 'AB', 'AB', 'AB', 'AB', 'AB', 'NO', 'AB', 'NO', 'NO', 'AB', 'AB', 'NO', 'AB', 'NO', 'NO', 'AB', 'NO', 'NO', 'AB', 'AB', 'AB', 'AB', 'AB', 'NO', 'AB', 'AB', 'NO', 'AB', 'AB', 'AB', 'AB', 'AB', 'AB']\n"
     ]
    },
    {
     "data": {
      "text/plain": [
       "array([[0.83516484, 0.16483516],\n",
       "       [0.15151515, 0.84848485]])"
      ]
     },
     "execution_count": 31,
     "metadata": {},
     "output_type": "execute_result"
    }
   ],
   "source": [
    "k_class = 10  #nombre de plus proche voisins utilisés\n",
    "plus_proches_voisins=vertebralClas_train[tree.query(vertebralVar_test,k=k_class)[1]]\n",
    "pred_kprochevois_test = []\n",
    "for L in plus_proches_voisins:\n",
    "    pred_kprochevois_test.append(predict_kprochevois(L))\n",
    "print(pred_kprochevois_test)\n",
    "cnf_matrix_kNN =confusion_matrix(vertebralClas_test,pred_kprochevois_test)\n",
    "cnf_matrix_kNN.astype('float') / cnf_matrix_kNN.sum(axis=1).reshape(-1,1) \n",
    "#La méthode des plus proches voisins donne un taux de prédiction de 80%.\n",
    "\n",
    "#La méthode la plus précise (mais c'est également la plus coûteuse) est la QDA. Les autres méthodes donnent des performances globalement simlilaires."
   ]
  },
  {
   "cell_type": "markdown",
   "metadata": {},
   "source": [
    "Il existe bien sûr une fonction scikit-learn pour le classifieur plus proche voisin, voir [ici](http://scikit-learn.org/stable/modules/generated/sklearn.neighbors.KNeighborsClassifier.html)."
   ]
  }
 ],
 "metadata": {
  "anaconda-cloud": {},
  "kernelspec": {
   "display_name": "Python 3 (ipykernel)",
   "language": "python",
   "name": "python3"
  },
  "language_info": {
   "codemirror_mode": {
    "name": "ipython",
    "version": 3
   },
   "file_extension": ".py",
   "mimetype": "text/x-python",
   "name": "python",
   "nbconvert_exporter": "python",
   "pygments_lexer": "ipython3",
   "version": "3.9.12"
  }
 },
 "nbformat": 4,
 "nbformat_minor": 4
}

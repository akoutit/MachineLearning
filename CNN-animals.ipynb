{
 "cells": [
  {
   "cell_type": "markdown",
   "metadata": {},
   "source": [
    "# Convolution Neural Network avec Keras"
   ]
  },
  {
   "cell_type": "code",
   "execution_count": 7,
   "metadata": {},
   "outputs": [],
   "source": [
    "import os\n",
    "import cv2 \n",
    "# si nécessaire : conda install -c conda-forge opencv   \n",
    "# ou sinon : https://pypi.org/project/opencv-python/\n",
    "import numpy as np\n",
    "import matplotlib.pyplot as plt\n",
    "from sklearn.utils import shuffle\n",
    "from sklearn.model_selection import train_test_split"
   ]
  },
  {
   "cell_type": "markdown",
   "metadata": {},
   "source": [
    "On importe les librairies nécessaires de Keras"
   ]
  },
  {
   "cell_type": "code",
   "execution_count": 36,
   "metadata": {},
   "outputs": [],
   "source": [
    "from tensorflow.keras.models import Sequential\n",
    "from tensorflow.keras.layers import Dense, Dropout, Activation, Flatten, Conv2D, MaxPooling2D,Softmax\n",
    "from tensorflow.keras.optimizers import SGD, RMSprop, Adam, Adadelta\n",
    "from tensorflow.keras.utils import to_categorical"
   ]
  },
  {
   "cell_type": "markdown",
   "metadata": {},
   "source": [
    "## Importation et préparation des données"
   ]
  },
  {
   "cell_type": "markdown",
   "metadata": {},
   "source": [
    "Télécharger les données depuis :\n",
    "\n",
    "https://box.ec-nantes.fr:443/index.php/s/2NxopNZS3FTRBcr\n",
    "\n",
    "Adresse du dossier où sont entreposées les données:"
   ]
  },
  {
   "cell_type": "code",
   "execution_count": 9,
   "metadata": {},
   "outputs": [],
   "source": [
    "#data_path = \"data_animals\"\n",
    "data_path = \"C://Users//abdou//MathApp//TP6//data_animals\""
   ]
  },
  {
   "cell_type": "markdown",
   "metadata": {},
   "source": [
    "La fonction `os.listdir()` permet de lister le contenu du dossier `data_animals` (un repertoire par classe)."
   ]
  },
  {
   "cell_type": "code",
   "execution_count": 10,
   "metadata": {},
   "outputs": [
    {
     "name": "stdout",
     "output_type": "stream",
     "text": [
      "['cats', 'dogs', 'horses', 'Humans']\n",
      "4\n"
     ]
    }
   ],
   "source": [
    "data_dir_list = os.listdir(data_path)\n",
    "print(data_dir_list)\n",
    "num_classes = len(data_dir_list) \n",
    "print(num_classes)"
   ]
  },
  {
   "cell_type": "markdown",
   "metadata": {},
   "source": [
    "Toutes les images ne sont pas au même format (nb de pixels).\n",
    "Le réseau CNN impose que toutes les données aient la même dimension. Il nous faudra  transformer les images pour qu'elles soient toutes au même format : 128x 128."
   ]
  },
  {
   "cell_type": "code",
   "execution_count": 11,
   "metadata": {},
   "outputs": [],
   "source": [
    "img_rows=128\n",
    "img_cols=128"
   ]
  },
  {
   "cell_type": "markdown",
   "metadata": {},
   "source": [
    "Lorsque les images en entrée du réseau sont en couleur, on utilise 3 canaux(RGB).\n",
    "\n",
    "Ici, pour simplifier, nous allons préalablement transformer les images en niveaux de gris et de ce fait nous n'utiliserons qu'un seul canal en entrée du réseau. "
   ]
  },
  {
   "cell_type": "code",
   "execution_count": 12,
   "metadata": {},
   "outputs": [],
   "source": [
    "num_channel=1"
   ]
  },
  {
   "cell_type": "markdown",
   "metadata": {},
   "source": [
    "> Compléter le script ci-dessous pour importer les images en niveaux de gris et sous la forme de tableaux 128x128, dans la liste img_data_list.\n",
    "*  `my_img = cv2.imread(\"file\")`  : lecture d'un fichier image\n",
    "*  `cv2.cvtColor(my_img, cv2.COLOR_BGR2GRAY)` : convertit le fichier image en niveaux de gris\n",
    "*  `cv2.resize(input_img,(n,p))` : redimensionne l'image au format n x p "
   ]
  },
  {
   "cell_type": "code",
   "execution_count": 13,
   "metadata": {},
   "outputs": [
    {
     "name": "stdout",
     "output_type": "stream",
     "text": [
      "Loaded the images of dataset-cats\n",
      "\n",
      "Loaded the images of dataset-dogs\n",
      "\n",
      "Loaded the images of dataset-horses\n",
      "\n",
      "Loaded the images of dataset-Humans\n",
      "\n"
     ]
    },
    {
     "name": "stderr",
     "output_type": "stream",
     "text": [
      "c:\\Users\\abdou\\anaconda3\\lib\\site-packages\\sklearn\\preprocessing\\_data.py:235: UserWarning: Numerical issues were encountered when centering the data and might not be solved. Dataset may contain too large values. You may need to prescale your features.\n",
      "  warnings.warn(\n",
      "c:\\Users\\abdou\\anaconda3\\lib\\site-packages\\sklearn\\preprocessing\\_data.py:254: UserWarning: Numerical issues were encountered when scaling the data and might not be solved. The standard deviation of the data is probably very close to 0. \n",
      "  warnings.warn(\n"
     ]
    },
    {
     "name": "stdout",
     "output_type": "stream",
     "text": [
      "(808, 16384)\n",
      "1.2761886e-08\n",
      "1.0000001\n",
      "[ 5.8866963e-08 -5.7686673e-08  2.0360002e-07 ... -3.1646525e-08\n",
      " -9.3537984e-08  1.7261740e-08]\n",
      "[0.99999934 0.99999934 1.0000005  ... 0.99999946 0.9999998  1.0000005 ]\n"
     ]
    }
   ],
   "source": [
    "from sklearn import preprocessing\n",
    "\n",
    "img_data_list=[]\n",
    "\n",
    "for dataset in data_dir_list: # boucle sur les 4 repertoires\n",
    "    img_list=os.listdir(data_path+'/'+ dataset)  # \n",
    "\n",
    "    print ('Loaded the images of dataset-'+'{}\\n'.format(dataset))\n",
    "    for img in img_list:\n",
    "        input_img_raw=  cv2.imread(data_path+'/'+ dataset+'/'+img) \n",
    "        input_img_grey= cv2.cvtColor(input_img_raw, cv2.COLOR_BGR2GRAY)\n",
    "        input_img_flatten=cv2.resize(input_img_grey,(128,128)).flatten()\n",
    "        img_data_list.append(input_img_flatten)\n",
    "\n",
    "        \n",
    "img_data = np.array(img_data_list)\n",
    "img_data = img_data.astype('float32')\n",
    "\n",
    "img_data_scaled = preprocessing.scale(img_data)\n",
    "print (img_data_scaled.shape)\n",
    "\n",
    "print (np.mean(img_data_scaled))\n",
    "print (np.std(img_data_scaled))\n",
    "\n",
    "print (img_data_scaled.mean(axis=0))\n",
    "print (img_data_scaled.std(axis=0))  "
   ]
  },
  {
   "cell_type": "markdown",
   "metadata": {},
   "source": [
    "> Quelle la dimension du tableau `img_data` ?"
   ]
  },
  {
   "cell_type": "code",
   "execution_count": 14,
   "metadata": {},
   "outputs": [
    {
     "data": {
      "text/plain": [
       "(808, 16384)"
      ]
     },
     "execution_count": 14,
     "metadata": {},
     "output_type": "execute_result"
    }
   ],
   "source": [
    "img_data.shape\n"
   ]
  },
  {
   "cell_type": "markdown",
   "metadata": {},
   "source": [
    "De façon générale, la première couche du réseau de convolution  prend en entrée un objet de dimension 3 : hauteur, largeur, profondeur,  où la profondeur correspond aux nombres de canaux.\n",
    "\n",
    "Avec Tensor Flow (ici en backend) la profondeur doit être donnée en dernière position.\n",
    "\n",
    "Cette dimension est ici \"factice\"  car nos images sont en niveaux gris, elle est néanmoins nécessaire car attendue par les fonctions de Keras et Tensor Flow."
   ]
  },
  {
   "cell_type": "markdown",
   "metadata": {},
   "source": [
    "L'échantillon d'images doit finalement se présenter sous la forme d'un objet de dimension 4: (nombre d'échantillons, hauteur, largeur, profondeur)\n",
    "\n",
    "Nous redimensionnons les données pour qu'elle se présente ainsi :"
   ]
  },
  {
   "cell_type": "code",
   "execution_count": 15,
   "metadata": {},
   "outputs": [
    {
     "name": "stdout",
     "output_type": "stream",
     "text": [
      "(808, 128, 128, 1)\n"
     ]
    }
   ],
   "source": [
    "img_data_reshape=img_data_scaled.reshape(img_data.shape[0],\n",
    "                                        img_rows,img_cols,\n",
    "                                        num_channel)\n",
    "print (img_data_reshape.shape)"
   ]
  },
  {
   "cell_type": "markdown",
   "metadata": {},
   "source": [
    "La dimension d'une image en entrée du réseau est la suivante :"
   ]
  },
  {
   "cell_type": "code",
   "execution_count": 16,
   "metadata": {},
   "outputs": [
    {
     "data": {
      "text/plain": [
       "(128, 128, 1)"
      ]
     },
     "execution_count": 16,
     "metadata": {},
     "output_type": "execute_result"
    }
   ],
   "source": [
    "input_shape=img_data_reshape[0].shape # (128, 128, 1)\n",
    "input_shape"
   ]
  },
  {
   "cell_type": "markdown",
   "metadata": {},
   "source": [
    "Nous indiquons maintenant les labels des images:"
   ]
  },
  {
   "cell_type": "code",
   "execution_count": 17,
   "metadata": {},
   "outputs": [],
   "source": [
    "num_of_samples = img_data_reshape.shape[0]\n",
    "labels = np.ones((num_of_samples,),dtype='int64')\n",
    "labels[0:202]=0\n",
    "labels[202:404]=1\n",
    "labels[404:606]=2\n",
    "labels[606:]=3\n",
    "\n",
    "names = ['cats','dogs','horses','humans']"
   ]
  },
  {
   "cell_type": "markdown",
   "metadata": {},
   "source": [
    "> Convertir les labels en \"one-hot encoding\""
   ]
  },
  {
   "cell_type": "code",
   "execution_count": 18,
   "metadata": {},
   "outputs": [],
   "source": [
    "labels_categorical=to_categorical(labels)"
   ]
  },
  {
   "cell_type": "markdown",
   "metadata": {},
   "source": [
    "> Séparer  aléatoirement les données en un échantillon d'apprentissage (80%) et un échantillon de test (20%). Assurez-vous que les données d'apprentissage prennent bien la forme d'un tableau de dimension 4."
   ]
  },
  {
   "cell_type": "code",
   "execution_count": 19,
   "metadata": {},
   "outputs": [],
   "source": [
    "X_train,X_test,Y_train,Y_test=train_test_split(img_data_reshape,labels_categorical,test_size=0.2)"
   ]
  },
  {
   "cell_type": "markdown",
   "metadata": {},
   "source": [
    "## Définition de l'architecture du modèle"
   ]
  },
  {
   "cell_type": "markdown",
   "metadata": {},
   "source": [
    "Nous définissons ci-dessous les deux premiers niveaux de convolution du réseau CNN.\n",
    "Chacune de ces deux couches est définie comme suit :\n",
    "+ 32 noyaux (filtres)\n",
    "+ Pas (stride) = 1\n",
    "+ Kernel size = (3,3)\n",
    "+ padding = 'same' (i.e. 0 padding : bordures à 0)\n",
    "+ activation : relu\n",
    "\n",
    "> Créer un modèle séquentiel que vous nommerez `my_first_CNN` composé de 4 couches succesives (conv + relu + conv + relu).    \n",
    "> Voir  [ici](https://keras.io/layers/convolutional/#conv2d) et  [ici](https://keras.io/examples/vision/mnist_convnet/) pour la synthaxe de la couche de convolution `Conv2D`."
   ]
  },
  {
   "cell_type": "code",
   "execution_count": 22,
   "metadata": {},
   "outputs": [],
   "source": [
    "from tensorflow import keras\n",
    "my_first_CNN=Sequential()\n",
    "my_first_CNN.add(keras.Input(shape=input_shape))\n",
    "my_first_CNN.add(Conv2D(32,(3,3),1,\"same\"))\n",
    "my_first_CNN.add(Activation(\"relu\"))\n",
    "my_first_CNN.add(Conv2D(32,(3,3),1,\"same\"))\n",
    "my_first_CNN.add(Activation(\"relu\"))"
   ]
  },
  {
   "cell_type": "markdown",
   "metadata": {},
   "source": [
    "> Executez les codes ci-dessous et decrire les sorties obtenues"
   ]
  },
  {
   "cell_type": "code",
   "execution_count": 23,
   "metadata": {},
   "outputs": [
    {
     "name": "stdout",
     "output_type": "stream",
     "text": [
      "(None, 128, 128, 1)\n",
      "(None, 128, 128, 32)\n"
     ]
    }
   ],
   "source": [
    "print(my_first_CNN.layers[0].input_shape)\n",
    "print(my_first_CNN.layers[1].input_shape)"
   ]
  },
  {
   "cell_type": "markdown",
   "metadata": {},
   "source": [
    "(`batch_size`,`n_l`,`n_c`,`nb de canaux`)\n",
    "\n",
    "Keras dimensionnera ensuite correctement les couches en fonction du `batch_size` choisi par l'utilisateur. \n",
    "\n",
    "> Passer `batch_size=16` en argument de `Conv2D` et vérifier que cela a bien été pris en compte dans les dimensions de la couche cachée de `my_first_CNN`."
   ]
  },
  {
   "cell_type": "code",
   "execution_count": 25,
   "metadata": {},
   "outputs": [
    {
     "name": "stdout",
     "output_type": "stream",
     "text": [
      "(16, 128, 128, 1)\n",
      "(16, 128, 128, 32)\n"
     ]
    }
   ],
   "source": [
    "my_first_CNN=Sequential()\n",
    "my_first_CNN.add(keras.Input(shape=input_shape,batch_size=16))\n",
    "my_first_CNN.add(Conv2D(32,(3,3),1,\"same\",batch_size=16))\n",
    "my_first_CNN.add(Activation(\"relu\"))\n",
    "my_first_CNN.add(Conv2D(32,(3,3),1,\"same\"))\n",
    "my_first_CNN.add(Activation(\"relu\"))\n",
    "\n",
    "print(my_first_CNN.layers[0].input_shape)\n",
    "print(my_first_CNN.layers[1].input_shape)"
   ]
  },
  {
   "cell_type": "markdown",
   "metadata": {},
   "source": [
    "> Executez les codes ci-dessous et decrire les sorties obtenues. Expliquer en particulier la dimension de la troisième couche en utilisant `get_weights`."
   ]
  },
  {
   "cell_type": "code",
   "execution_count": 26,
   "metadata": {},
   "outputs": [
    {
     "name": "stdout",
     "output_type": "stream",
     "text": [
      "Model: \"sequential_2\"\n",
      "_________________________________________________________________\n",
      " Layer (type)                Output Shape              Param #   \n",
      "=================================================================\n",
      " conv2d_4 (Conv2D)           (16, 128, 128, 32)        320       \n",
      "                                                                 \n",
      " activation_4 (Activation)   (16, 128, 128, 32)        0         \n",
      "                                                                 \n",
      " conv2d_5 (Conv2D)           (16, 128, 128, 32)        9248      \n",
      "                                                                 \n",
      " activation_5 (Activation)   (16, 128, 128, 32)        0         \n",
      "                                                                 \n",
      "=================================================================\n",
      "Total params: 9568 (37.38 KB)\n",
      "Trainable params: 9568 (37.38 KB)\n",
      "Non-trainable params: 0 (0.00 Byte)\n",
      "_________________________________________________________________\n"
     ]
    }
   ],
   "source": [
    "my_first_CNN.summary()"
   ]
  },
  {
   "cell_type": "code",
   "execution_count": 27,
   "metadata": {},
   "outputs": [
    {
     "data": {
      "text/plain": [
       "(3, 3, 32, 32)"
      ]
     },
     "execution_count": 27,
     "metadata": {},
     "output_type": "execute_result"
    }
   ],
   "source": [
    "np.shape(my_first_CNN.layers[2].get_weights()[0])"
   ]
  },
  {
   "cell_type": "markdown",
   "metadata": {},
   "source": [
    "Multichannel convolution:\n",
    "\\begin{eqnarray} Z(i,j,l) &= & ( V \\star K ) (i,j,l) \\\\\n",
    "& =  & \\sum_{u,v,w}   V (i+u, j+v,w ) w_{u,v,l,w} \n",
    "\\end{eqnarray}\n",
    "where \n",
    "+ $V$  and $Z$ have the same dimensions (multichannel).\n",
    "+ $K(u,v,l,w) $ gives the connection strength between a unit in channel $l$ of the output and a unit in channel $w$ of the input, with an offset of  $u$ rows and $v$ columns between the output unit and the input unit."
   ]
  },
  {
   "cell_type": "markdown",
   "metadata": {},
   "source": [
    "Le nombre de poids à estimer vaut donc :"
   ]
  },
  {
   "cell_type": "code",
   "execution_count": 28,
   "metadata": {},
   "outputs": [
    {
     "name": "stdout",
     "output_type": "stream",
     "text": [
      "9216\n"
     ]
    }
   ],
   "source": [
    "l = np.shape(my_first_CNN.layers[2].get_weights()[0]) \n",
    "n =  l[0]*l[1]*l[2]*l[3]\n",
    "print(n)"
   ]
  },
  {
   "cell_type": "markdown",
   "metadata": {},
   "source": [
    "Le nombre de paramètres à estimer pour les termes de biais :"
   ]
  },
  {
   "cell_type": "code",
   "execution_count": 30,
   "metadata": {},
   "outputs": [],
   "source": [
    "m=32"
   ]
  },
  {
   "cell_type": "markdown",
   "metadata": {},
   "source": [
    "On a bien que pour la troisième couche 9248 = "
   ]
  },
  {
   "cell_type": "code",
   "execution_count": 31,
   "metadata": {},
   "outputs": [
    {
     "data": {
      "text/plain": [
       "9248"
      ]
     },
     "execution_count": 31,
     "metadata": {},
     "output_type": "execute_result"
    }
   ],
   "source": [
    "n+m"
   ]
  },
  {
   "cell_type": "markdown",
   "metadata": {},
   "source": [
    "> Vérifier que les poids sont (déjà) initialisés aléatoirement alors que les biais sont initialisés à 0. "
   ]
  },
  {
   "cell_type": "code",
   "execution_count": 32,
   "metadata": {},
   "outputs": [
    {
     "name": "stdout",
     "output_type": "stream",
     "text": [
      "[[[[ 0.06154342 -0.06375446  0.06824319 ...  0.09953122  0.04818945\n",
      "    -0.0644113 ]\n",
      "   [ 0.05740355 -0.08390391  0.10136208 ... -0.06048429 -0.07210983\n",
      "     0.03084871]\n",
      "   [-0.00278319  0.09144276 -0.01403646 ...  0.07744224  0.08234511\n",
      "     0.07763551]\n",
      "   ...\n",
      "   [-0.0874218   0.06035009  0.0644931  ... -0.01828034  0.03839067\n",
      "    -0.05745257]\n",
      "   [ 0.06972401 -0.0810774   0.03249556 ... -0.05217262  0.09675905\n",
      "    -0.02009705]\n",
      "   [-0.08732924  0.05655104 -0.04011146 ... -0.01282764 -0.00172614\n",
      "    -0.0258733 ]]\n",
      "\n",
      "  [[ 0.0947839   0.07115597  0.04316573 ... -0.00986157  0.014954\n",
      "     0.00964947]\n",
      "   [ 0.03670846  0.07383087  0.07351643 ... -0.01133153 -0.08561738\n",
      "     0.08306755]\n",
      "   [ 0.09376143  0.06201079  0.05803096 ... -0.01011889 -0.00677739\n",
      "     0.0034454 ]\n",
      "   ...\n",
      "   [-0.0545895   0.05521163  0.01328504 ... -0.08796439  0.07224829\n",
      "    -0.05229154]\n",
      "   [-0.09714968 -0.01157576  0.06575815 ...  0.01806918  0.06293894\n",
      "    -0.01088186]\n",
      "   [ 0.01364401  0.0970442  -0.01682983 ...  0.09891441 -0.03131317\n",
      "     0.02913778]]\n",
      "\n",
      "  [[ 0.05883394 -0.09038572  0.05571043 ... -0.06333809 -0.0165005\n",
      "     0.06442465]\n",
      "   [-0.04431952  0.02994154  0.07065505 ... -0.05528395  0.03981186\n",
      "     0.06252857]\n",
      "   [ 0.07804605  0.09458201 -0.05148639 ...  0.06597674 -0.04734045\n",
      "    -0.01340732]\n",
      "   ...\n",
      "   [ 0.02023036 -0.05995133 -0.0384279  ...  0.05734135 -0.03763104\n",
      "    -0.0636375 ]\n",
      "   [-0.08603122 -0.07682666 -0.09336463 ... -0.01502394  0.04619893\n",
      "    -0.0880655 ]\n",
      "   [ 0.02708688 -0.00960718  0.07343966 ... -0.02527343  0.04439065\n",
      "    -0.06649539]]]\n",
      "\n",
      "\n",
      " [[[-0.01006366  0.1006985  -0.07210027 ... -0.08484615 -0.08534314\n",
      "     0.04717048]\n",
      "   [-0.02655393  0.10159765  0.03618056 ...  0.03456709 -0.09742015\n",
      "    -0.0395705 ]\n",
      "   [-0.05846173  0.01131724 -0.01760076 ...  0.01468784  0.00521892\n",
      "     0.08757599]\n",
      "   ...\n",
      "   [-0.08354049  0.07091494  0.07718582 ... -0.00387228 -0.08616666\n",
      "    -0.08770432]\n",
      "   [-0.00600152  0.06589615 -0.06630518 ...  0.01403014  0.07851402\n",
      "    -0.0783258 ]\n",
      "   [-0.091383   -0.09732729  0.09254281 ... -0.05814537 -0.07913199\n",
      "    -0.00974564]]\n",
      "\n",
      "  [[ 0.06991811  0.0012394   0.00843287 ... -0.03500522 -0.08185238\n",
      "     0.04680915]\n",
      "   [-0.00011602 -0.08462618  0.00134262 ...  0.05851461  0.02580924\n",
      "     0.08990507]\n",
      "   [ 0.02584471 -0.0556738   0.04692674 ...  0.06466468 -0.00130812\n",
      "     0.03410356]\n",
      "   ...\n",
      "   [ 0.00644655 -0.0816287  -0.07405695 ...  0.02341853 -0.09157807\n",
      "     0.06312768]\n",
      "   [-0.07498895  0.03339806 -0.00526611 ... -0.07861641  0.06426542\n",
      "    -0.09222154]\n",
      "   [ 0.04136312  0.04034926  0.02848576 ... -0.04010593  0.0020054\n",
      "     0.05778202]]\n",
      "\n",
      "  [[ 0.04202947  0.0524918  -0.03618727 ...  0.03337468  0.06274404\n",
      "     0.06608829]\n",
      "   [-0.00222831 -0.01679221  0.05841416 ...  0.04469603  0.08442253\n",
      "     0.05196637]\n",
      "   [ 0.0080336   0.02735204 -0.06584814 ...  0.03398873 -0.08652611\n",
      "     0.1016857 ]\n",
      "   ...\n",
      "   [-0.06978029  0.08228385 -0.10103039 ...  0.09236124 -0.03042366\n",
      "    -0.08986773]\n",
      "   [ 0.05224872 -0.07655583  0.03744701 ...  0.02831584 -0.06015654\n",
      "     0.08457932]\n",
      "   [-0.01065563 -0.09620459  0.09175988 ...  0.04722212  0.08848274\n",
      "     0.0734562 ]]]\n",
      "\n",
      "\n",
      " [[[ 0.03988799 -0.01885539  0.09835263 ...  0.02024253 -0.00130452\n",
      "     0.06506494]\n",
      "   [ 0.03958757 -0.04119442 -0.05209906 ...  0.06784301  0.03469609\n",
      "     0.08207335]\n",
      "   [ 0.00745887 -0.03679239 -0.0869409  ... -0.06171322  0.07656208\n",
      "    -0.04747297]\n",
      "   ...\n",
      "   [-0.0412853   0.05312644 -0.02939527 ... -0.06688243 -0.02217241\n",
      "     0.09677766]\n",
      "   [ 0.00388402 -0.08103475 -0.08402057 ... -0.08056489 -0.04561387\n",
      "     0.01973067]\n",
      "   [ 0.05087745 -0.09010817 -0.09387337 ... -0.0305182  -0.06762373\n",
      "     0.10181978]]\n",
      "\n",
      "  [[ 0.02509907  0.04235534  0.07376961 ... -0.01455347 -0.06444402\n",
      "    -0.01174257]\n",
      "   [-0.0354094  -0.04534296  0.09379686 ...  0.09529561  0.08492303\n",
      "    -0.09866823]\n",
      "   [ 0.08424309 -0.08752315  0.0680953  ... -0.03657675 -0.07612839\n",
      "     0.09466708]\n",
      "   ...\n",
      "   [ 0.0232856  -0.05683263 -0.00071689 ...  0.09915641  0.01109946\n",
      "    -0.0661902 ]\n",
      "   [ 0.00833514  0.10130093  0.00672977 ... -0.07211243  0.02935451\n",
      "    -0.03841566]\n",
      "   [ 0.0559849   0.00706358 -0.06282184 ...  0.09316298 -0.05105299\n",
      "    -0.05137044]]\n",
      "\n",
      "  [[-0.05703947 -0.03919939 -0.08060609 ... -0.09392778 -0.05077461\n",
      "    -0.04179443]\n",
      "   [ 0.02375095 -0.06633854  0.00548784 ... -0.0023894   0.09701523\n",
      "     0.007397  ]\n",
      "   [ 0.07626103 -0.03163033  0.09365329 ...  0.08158167  0.07501839\n",
      "    -0.0259672 ]\n",
      "   ...\n",
      "   [ 0.05873869  0.00868596  0.07634515 ...  0.03428251  0.08765258\n",
      "    -0.03260504]\n",
      "   [-0.09954478 -0.08665469  0.04558355 ... -0.05273005  0.09713398\n",
      "     0.02290028]\n",
      "   [-0.06367039  0.06437832 -0.0092841  ... -0.01935802 -0.0785511\n",
      "     0.09107898]]]]\n"
     ]
    }
   ],
   "source": [
    "print(my_first_CNN.layers[2].get_weights()[0])"
   ]
  },
  {
   "cell_type": "code",
   "execution_count": 34,
   "metadata": {},
   "outputs": [
    {
     "name": "stdout",
     "output_type": "stream",
     "text": [
      "[0. 0. 0. 0. 0. 0. 0. 0. 0. 0. 0. 0. 0. 0. 0. 0. 0. 0. 0. 0. 0. 0. 0. 0.\n",
      " 0. 0. 0. 0. 0. 0. 0. 0.]\n",
      "32\n"
     ]
    }
   ],
   "source": [
    "print(my_first_CNN.layers[2].get_weights()[1])\n",
    "print(len(my_first_CNN.layers[2].get_weights()[1]))\n",
    "\n"
   ]
  },
  {
   "cell_type": "markdown",
   "metadata": {},
   "source": [
    "> Construire maintenant l'architecture complète du réseau `my_first_CNN` :\n",
    "+ Convolution à 32 filtres de taille (3,3), zero padding\n",
    "+ Activation Relu\n",
    "+ Convolution à 32 filtres de taille (3,3), zero padding\n",
    "+ Activation Relu\n",
    "+ Maxpooling2D (2,2) [documentation](https://keras.io/api/layers/pooling_layers/max_pooling2d/)\n",
    "+ Dropout(0.5) [documentation](https://keras.io/api/layers/regularization_layers/dropout/)\n",
    "+ Convolution à 64 filtres de taille (3,3), zero padding\n",
    "+ Maxpooling2D (2,2) \n",
    "+ Dropout(0.5) \n",
    "+ Flatten  [documentation](https://keras.io/api/layers/reshaping_layers/flatten/)\n",
    "+ Dense(64)\n",
    "+ Activation Relu\n",
    "+ Dropout(0.5)\n",
    "+ Dense(4)\n",
    "+ Softmax   \n",
    "> \n",
    "> Afficher un résumé de l'architecture avec `my_first_CNN.summary` "
   ]
  },
  {
   "cell_type": "code",
   "execution_count": 37,
   "metadata": {},
   "outputs": [],
   "source": [
    "my_first_CNN=Sequential()\n",
    "my_first_CNN.add(keras.Input(shape=input_shape))\n",
    "my_first_CNN.add(Conv2D(32,(3,3)))\n",
    "my_first_CNN.add(Activation(\"relu\"))\n",
    "my_first_CNN.add(Conv2D(32,(3,3)))\n",
    "my_first_CNN.add(Activation(\"relu\"))\n",
    "my_first_CNN.add(MaxPooling2D(2,2))\n",
    "my_first_CNN.add(Dropout(0.5))\n",
    "my_first_CNN.add(Conv2D(64,(3,3)))\n",
    "my_first_CNN.add(MaxPooling2D(2,2))\n",
    "my_first_CNN.add(Dropout(0.5))\n",
    "my_first_CNN.add(Flatten())\n",
    "my_first_CNN.add(Dense(64))\n",
    "my_first_CNN.add(Activation(\"relu\"))\n",
    "my_first_CNN.add(Dropout(0.5))\n",
    "my_first_CNN.add(Dense(4))\n",
    "my_first_CNN.add(Softmax())"
   ]
  },
  {
   "cell_type": "code",
   "execution_count": 38,
   "metadata": {},
   "outputs": [
    {
     "name": "stdout",
     "output_type": "stream",
     "text": [
      "Model: \"sequential_4\"\n",
      "_________________________________________________________________\n",
      " Layer (type)                Output Shape              Param #   \n",
      "=================================================================\n",
      " conv2d_9 (Conv2D)           (None, 126, 126, 32)      320       \n",
      "                                                                 \n",
      " activation_9 (Activation)   (None, 126, 126, 32)      0         \n",
      "                                                                 \n",
      " conv2d_10 (Conv2D)          (None, 124, 124, 32)      9248      \n",
      "                                                                 \n",
      " activation_10 (Activation)  (None, 124, 124, 32)      0         \n",
      "                                                                 \n",
      " max_pooling2d_2 (MaxPoolin  (None, 62, 62, 32)        0         \n",
      " g2D)                                                            \n",
      "                                                                 \n",
      " dropout_3 (Dropout)         (None, 62, 62, 32)        0         \n",
      "                                                                 \n",
      " conv2d_11 (Conv2D)          (None, 60, 60, 64)        18496     \n",
      "                                                                 \n",
      " max_pooling2d_3 (MaxPoolin  (None, 30, 30, 64)        0         \n",
      " g2D)                                                            \n",
      "                                                                 \n",
      " dropout_4 (Dropout)         (None, 30, 30, 64)        0         \n",
      "                                                                 \n",
      " flatten_1 (Flatten)         (None, 57600)             0         \n",
      "                                                                 \n",
      " dense_2 (Dense)             (None, 64)                3686464   \n",
      "                                                                 \n",
      " activation_11 (Activation)  (None, 64)                0         \n",
      "                                                                 \n",
      " dropout_5 (Dropout)         (None, 64)                0         \n",
      "                                                                 \n",
      " dense_3 (Dense)             (None, 4)                 260       \n",
      "                                                                 \n",
      " softmax (Softmax)           (None, 4)                 0         \n",
      "                                                                 \n",
      "=================================================================\n",
      "Total params: 3714788 (14.17 MB)\n",
      "Trainable params: 3714788 (14.17 MB)\n",
      "Non-trainable params: 0 (0.00 Byte)\n",
      "_________________________________________________________________\n"
     ]
    }
   ],
   "source": [
    "my_first_CNN.summary()"
   ]
  },
  {
   "cell_type": "markdown",
   "metadata": {},
   "source": [
    "## Apprentissage du CNN"
   ]
  },
  {
   "cell_type": "markdown",
   "metadata": {},
   "source": [
    "> Ajuster le modèle \n",
    "- avec la méthode sgd (avec un taux d'apprentissage de 0.01 et momentum de 0.9)\n",
    "- puis la méthode adam."
   ]
  },
  {
   "cell_type": "code",
   "execution_count": 39,
   "metadata": {},
   "outputs": [
    {
     "name": "stdout",
     "output_type": "stream",
     "text": [
      "Epoch 1/100\n",
      "6/6 [==============================] - 8s 1s/step - loss: 1.4751 - categorical_accuracy: 0.2716\n",
      "Epoch 2/100\n",
      "6/6 [==============================] - 6s 1s/step - loss: 1.4448 - categorical_accuracy: 0.2593\n",
      "Epoch 3/100\n",
      "6/6 [==============================] - 7s 1s/step - loss: 1.3315 - categorical_accuracy: 0.3457\n",
      "Epoch 4/100\n",
      "6/6 [==============================] - 7s 1s/step - loss: 1.3677 - categorical_accuracy: 0.3827\n",
      "Epoch 5/100\n",
      "6/6 [==============================] - 7s 1s/step - loss: 1.3412 - categorical_accuracy: 0.4074\n",
      "Epoch 6/100\n",
      "6/6 [==============================] - 6s 965ms/step - loss: 1.3085 - categorical_accuracy: 0.4753\n",
      "Epoch 7/100\n",
      "6/6 [==============================] - 6s 967ms/step - loss: 1.2183 - categorical_accuracy: 0.4691\n",
      "Epoch 8/100\n",
      "6/6 [==============================] - 6s 944ms/step - loss: 1.3025 - categorical_accuracy: 0.3704\n",
      "Epoch 9/100\n",
      "6/6 [==============================] - 6s 966ms/step - loss: 1.4108 - categorical_accuracy: 0.4012\n",
      "Epoch 10/100\n",
      "6/6 [==============================] - 6s 951ms/step - loss: 1.5630 - categorical_accuracy: 0.4074\n",
      "Epoch 11/100\n",
      "6/6 [==============================] - 6s 953ms/step - loss: 1.4764 - categorical_accuracy: 0.3827\n",
      "Epoch 12/100\n",
      "6/6 [==============================] - 6s 981ms/step - loss: 1.3703 - categorical_accuracy: 0.3457\n",
      "Epoch 13/100\n",
      "6/6 [==============================] - 6s 991ms/step - loss: 1.3643 - categorical_accuracy: 0.3086\n",
      "Epoch 14/100\n",
      "6/6 [==============================] - 6s 1s/step - loss: 1.3658 - categorical_accuracy: 0.3395\n",
      "Epoch 15/100\n",
      "6/6 [==============================] - 6s 985ms/step - loss: 1.3479 - categorical_accuracy: 0.3580\n",
      "Epoch 16/100\n",
      "6/6 [==============================] - 6s 974ms/step - loss: 1.3833 - categorical_accuracy: 0.2963\n",
      "Epoch 17/100\n",
      "6/6 [==============================] - 6s 1s/step - loss: 1.3289 - categorical_accuracy: 0.4012\n",
      "Epoch 18/100\n",
      "6/6 [==============================] - 6s 1s/step - loss: 1.5704 - categorical_accuracy: 0.3210\n",
      "Epoch 19/100\n",
      "6/6 [==============================] - 6s 1s/step - loss: 1.5335 - categorical_accuracy: 0.3086\n",
      "Epoch 20/100\n",
      "6/6 [==============================] - 6s 995ms/step - loss: 1.3732 - categorical_accuracy: 0.3272\n",
      "Epoch 21/100\n",
      "6/6 [==============================] - 6s 982ms/step - loss: 1.3728 - categorical_accuracy: 0.3395\n",
      "Epoch 22/100\n",
      "6/6 [==============================] - 6s 963ms/step - loss: 1.3704 - categorical_accuracy: 0.3395\n",
      "Epoch 23/100\n",
      "6/6 [==============================] - 6s 999ms/step - loss: 1.3607 - categorical_accuracy: 0.3395\n",
      "Epoch 24/100\n",
      "6/6 [==============================] - 6s 989ms/step - loss: 1.3900 - categorical_accuracy: 0.3272\n",
      "Epoch 25/100\n",
      "6/6 [==============================] - 6s 969ms/step - loss: 1.3540 - categorical_accuracy: 0.3333\n",
      "Epoch 26/100\n",
      "6/6 [==============================] - 6s 980ms/step - loss: 1.3585 - categorical_accuracy: 0.3395\n",
      "Epoch 27/100\n",
      "6/6 [==============================] - 6s 972ms/step - loss: 1.3677 - categorical_accuracy: 0.3395\n",
      "Epoch 28/100\n",
      "6/6 [==============================] - 6s 968ms/step - loss: 1.3677 - categorical_accuracy: 0.3395\n",
      "Epoch 29/100\n",
      "6/6 [==============================] - 6s 975ms/step - loss: 1.3677 - categorical_accuracy: 0.3395\n",
      "Epoch 30/100\n",
      "6/6 [==============================] - 6s 959ms/step - loss: 1.3672 - categorical_accuracy: 0.3395\n",
      "Epoch 31/100\n",
      "6/6 [==============================] - 6s 957ms/step - loss: 1.3668 - categorical_accuracy: 0.3395\n",
      "Epoch 32/100\n",
      "6/6 [==============================] - 6s 952ms/step - loss: 1.3661 - categorical_accuracy: 0.3395\n",
      "Epoch 33/100\n",
      "6/6 [==============================] - 6s 982ms/step - loss: 1.3675 - categorical_accuracy: 0.3395\n",
      "Epoch 34/100\n",
      "6/6 [==============================] - 6s 982ms/step - loss: 1.3676 - categorical_accuracy: 0.3395\n",
      "Epoch 35/100\n",
      "6/6 [==============================] - 6s 957ms/step - loss: 1.3679 - categorical_accuracy: 0.3395\n",
      "Epoch 36/100\n",
      "6/6 [==============================] - 6s 970ms/step - loss: 1.3683 - categorical_accuracy: 0.3395\n",
      "Epoch 37/100\n",
      "6/6 [==============================] - 6s 984ms/step - loss: 1.3697 - categorical_accuracy: 0.3395\n",
      "Epoch 38/100\n",
      "6/6 [==============================] - 6s 963ms/step - loss: 1.3700 - categorical_accuracy: 0.3395\n",
      "Epoch 39/100\n",
      "6/6 [==============================] - 6s 971ms/step - loss: 1.3698 - categorical_accuracy: 0.3395\n",
      "Epoch 40/100\n",
      "6/6 [==============================] - 6s 965ms/step - loss: 1.3701 - categorical_accuracy: 0.3395\n",
      "Epoch 41/100\n",
      "6/6 [==============================] - 6s 968ms/step - loss: 1.3702 - categorical_accuracy: 0.3395\n",
      "Epoch 42/100\n",
      "6/6 [==============================] - 6s 957ms/step - loss: 1.3703 - categorical_accuracy: 0.3395\n",
      "Epoch 43/100\n",
      "6/6 [==============================] - 6s 998ms/step - loss: 1.3699 - categorical_accuracy: 0.3395\n",
      "Epoch 44/100\n",
      "6/6 [==============================] - 6s 965ms/step - loss: 1.3699 - categorical_accuracy: 0.3395\n",
      "Epoch 45/100\n",
      "6/6 [==============================] - 6s 989ms/step - loss: 1.3686 - categorical_accuracy: 0.3395\n",
      "Epoch 46/100\n",
      "6/6 [==============================] - 6s 970ms/step - loss: 1.3677 - categorical_accuracy: 0.3395\n",
      "Epoch 47/100\n",
      "6/6 [==============================] - 6s 966ms/step - loss: 1.3676 - categorical_accuracy: 0.3395\n",
      "Epoch 48/100\n",
      "6/6 [==============================] - 6s 991ms/step - loss: 1.3674 - categorical_accuracy: 0.3395\n",
      "Epoch 49/100\n",
      "6/6 [==============================] - 6s 993ms/step - loss: 1.3672 - categorical_accuracy: 0.3395\n",
      "Epoch 50/100\n",
      "6/6 [==============================] - 6s 966ms/step - loss: 1.3670 - categorical_accuracy: 0.3395\n",
      "Epoch 51/100\n",
      "6/6 [==============================] - 6s 964ms/step - loss: 1.3670 - categorical_accuracy: 0.3395\n",
      "Epoch 52/100\n",
      "6/6 [==============================] - 6s 1s/step - loss: 1.3666 - categorical_accuracy: 0.3395\n",
      "Epoch 53/100\n",
      "6/6 [==============================] - 6s 1s/step - loss: 1.3668 - categorical_accuracy: 0.3395\n",
      "Epoch 54/100\n",
      "6/6 [==============================] - 7s 1s/step - loss: 1.3668 - categorical_accuracy: 0.3395\n",
      "Epoch 55/100\n",
      "6/6 [==============================] - 6s 978ms/step - loss: 1.3663 - categorical_accuracy: 0.3395\n",
      "Epoch 56/100\n",
      "6/6 [==============================] - 6s 999ms/step - loss: 1.3664 - categorical_accuracy: 0.3395\n",
      "Epoch 57/100\n",
      "6/6 [==============================] - 6s 1s/step - loss: 1.3673 - categorical_accuracy: 0.3395\n",
      "Epoch 58/100\n",
      "6/6 [==============================] - 7s 1s/step - loss: 1.3662 - categorical_accuracy: 0.3395\n",
      "Epoch 59/100\n",
      "6/6 [==============================] - 7s 1s/step - loss: 1.3670 - categorical_accuracy: 0.3395\n",
      "Epoch 60/100\n",
      "6/6 [==============================] - 6s 1s/step - loss: 1.3668 - categorical_accuracy: 0.3395\n",
      "Epoch 61/100\n",
      "6/6 [==============================] - 6s 1s/step - loss: 1.3677 - categorical_accuracy: 0.3395\n",
      "Epoch 62/100\n",
      "6/6 [==============================] - 7s 1s/step - loss: 1.3678 - categorical_accuracy: 0.3395\n",
      "Epoch 63/100\n",
      "6/6 [==============================] - 9s 2s/step - loss: 1.3680 - categorical_accuracy: 0.3395\n",
      "Epoch 64/100\n",
      "6/6 [==============================] - 9s 1s/step - loss: 1.3677 - categorical_accuracy: 0.3395\n",
      "Epoch 65/100\n",
      "6/6 [==============================] - 8s 1s/step - loss: 1.3669 - categorical_accuracy: 0.3395\n",
      "Epoch 66/100\n",
      "6/6 [==============================] - 7s 1s/step - loss: 1.3665 - categorical_accuracy: 0.3395\n",
      "Epoch 67/100\n",
      "6/6 [==============================] - 8s 1s/step - loss: 1.3667 - categorical_accuracy: 0.3395\n",
      "Epoch 68/100\n",
      "6/6 [==============================] - 7s 1s/step - loss: 1.3667 - categorical_accuracy: 0.3395\n",
      "Epoch 69/100\n",
      "6/6 [==============================] - 8s 1s/step - loss: 1.3662 - categorical_accuracy: 0.3395\n",
      "Epoch 70/100\n",
      "6/6 [==============================] - 7s 1s/step - loss: 1.3659 - categorical_accuracy: 0.3395\n",
      "Epoch 71/100\n",
      "6/6 [==============================] - 7s 1s/step - loss: 1.3663 - categorical_accuracy: 0.3395\n",
      "Epoch 72/100\n",
      "6/6 [==============================] - 6s 1000ms/step - loss: 1.3662 - categorical_accuracy: 0.3395\n",
      "Epoch 73/100\n",
      "6/6 [==============================] - 6s 1s/step - loss: 1.3670 - categorical_accuracy: 0.3395\n",
      "Epoch 74/100\n",
      "6/6 [==============================] - 8s 1s/step - loss: 1.3675 - categorical_accuracy: 0.3395\n",
      "Epoch 75/100\n",
      "6/6 [==============================] - 8s 1s/step - loss: 1.3672 - categorical_accuracy: 0.3395\n",
      "Epoch 76/100\n",
      "6/6 [==============================] - 7s 1s/step - loss: 1.3659 - categorical_accuracy: 0.3395\n",
      "Epoch 77/100\n",
      "6/6 [==============================] - 7s 1s/step - loss: 1.3659 - categorical_accuracy: 0.3395\n",
      "Epoch 78/100\n",
      "6/6 [==============================] - 6s 1s/step - loss: 1.3660 - categorical_accuracy: 0.3395\n",
      "Epoch 79/100\n",
      "6/6 [==============================] - 7s 1s/step - loss: 1.3661 - categorical_accuracy: 0.3395\n",
      "Epoch 80/100\n",
      "6/6 [==============================] - 7s 1s/step - loss: 1.3662 - categorical_accuracy: 0.3395\n",
      "Epoch 81/100\n",
      "6/6 [==============================] - 7s 1s/step - loss: 1.3671 - categorical_accuracy: 0.3395\n",
      "Epoch 82/100\n",
      "6/6 [==============================] - 7s 1s/step - loss: 1.3668 - categorical_accuracy: 0.3395\n",
      "Epoch 83/100\n",
      "6/6 [==============================] - 7s 1s/step - loss: 1.3666 - categorical_accuracy: 0.3395\n",
      "Epoch 84/100\n",
      "6/6 [==============================] - 6s 1s/step - loss: 1.3659 - categorical_accuracy: 0.3395\n",
      "Epoch 85/100\n",
      "6/6 [==============================] - 6s 983ms/step - loss: 1.3661 - categorical_accuracy: 0.3395\n",
      "Epoch 86/100\n",
      "6/6 [==============================] - 6s 991ms/step - loss: 1.3659 - categorical_accuracy: 0.3395\n",
      "Epoch 87/100\n",
      "6/6 [==============================] - 6s 1s/step - loss: 1.3659 - categorical_accuracy: 0.3395\n",
      "Epoch 88/100\n",
      "6/6 [==============================] - 6s 989ms/step - loss: 1.3656 - categorical_accuracy: 0.3395\n",
      "Epoch 89/100\n",
      "6/6 [==============================] - 6s 982ms/step - loss: 1.3662 - categorical_accuracy: 0.3395\n",
      "Epoch 90/100\n",
      "6/6 [==============================] - 7s 1s/step - loss: 1.3673 - categorical_accuracy: 0.3395\n",
      "Epoch 91/100\n",
      "6/6 [==============================] - 8s 1s/step - loss: 1.3676 - categorical_accuracy: 0.3395\n",
      "Epoch 92/100\n",
      "6/6 [==============================] - 7s 1s/step - loss: 1.3675 - categorical_accuracy: 0.3395\n",
      "Epoch 93/100\n",
      "6/6 [==============================] - 7s 1s/step - loss: 1.3672 - categorical_accuracy: 0.3395\n",
      "Epoch 94/100\n",
      "6/6 [==============================] - 7s 1s/step - loss: 1.3674 - categorical_accuracy: 0.3395\n",
      "Epoch 95/100\n",
      "6/6 [==============================] - 8s 1s/step - loss: 1.3671 - categorical_accuracy: 0.3395\n",
      "Epoch 96/100\n",
      "6/6 [==============================] - 8s 1s/step - loss: 1.3673 - categorical_accuracy: 0.3395\n",
      "Epoch 97/100\n",
      "6/6 [==============================] - 7s 1s/step - loss: 1.3680 - categorical_accuracy: 0.3395\n",
      "Epoch 98/100\n",
      "6/6 [==============================] - 7s 1s/step - loss: 1.3683 - categorical_accuracy: 0.3395\n",
      "Epoch 99/100\n",
      "6/6 [==============================] - 7s 1s/step - loss: 1.3679 - categorical_accuracy: 0.3395\n",
      "Epoch 100/100\n",
      "6/6 [==============================] - 7s 1s/step - loss: 1.3670 - categorical_accuracy: 0.3395\n"
     ]
    }
   ],
   "source": [
    "sgd=SGD(learning_rate=0.01, momentum=0.9)\n",
    "my_first_CNN.compile(loss='categorical_crossentropy', optimizer=sgd,metrics='categorical_accuracy')\n",
    "History1=my_first_CNN.fit(X_test,Y_test,batch_size=32,epochs=100)"
   ]
  },
  {
   "cell_type": "code",
   "execution_count": 40,
   "metadata": {},
   "outputs": [],
   "source": [
    "my_first_CNNbis=Sequential()\n",
    "my_first_CNNbis.add(keras.Input(shape=input_shape))\n",
    "my_first_CNNbis.add(Conv2D(32,(3,3)))\n",
    "my_first_CNNbis.add(Activation(\"relu\"))\n",
    "my_first_CNNbis.add(Conv2D(32,(3,3)))\n",
    "my_first_CNNbis.add(Activation(\"relu\"))\n",
    "my_first_CNNbis.add(MaxPooling2D(2,2))\n",
    "my_first_CNNbis.add(Dropout(0.5))\n",
    "my_first_CNNbis.add(Conv2D(64,(3,3)))\n",
    "my_first_CNNbis.add(MaxPooling2D(2,2))\n",
    "my_first_CNNbis.add(Dropout(0.5))\n",
    "my_first_CNNbis.add(Flatten())\n",
    "my_first_CNNbis.add(Dense(64))\n",
    "my_first_CNNbis.add(Activation(\"relu\"))\n",
    "my_first_CNNbis.add(Dropout(0.5))\n",
    "my_first_CNNbis.add(Dense(4))\n",
    "my_first_CNNbis.add(Softmax())"
   ]
  },
  {
   "cell_type": "code",
   "execution_count": 41,
   "metadata": {},
   "outputs": [
    {
     "name": "stdout",
     "output_type": "stream",
     "text": [
      "Epoch 1/100\n",
      "6/6 [==============================] - 8s 1s/step - loss: 3.1672 - categorical_accuracy: 0.2593\n",
      "Epoch 2/100\n",
      "6/6 [==============================] - 6s 1s/step - loss: 1.9107 - categorical_accuracy: 0.2407\n",
      "Epoch 3/100\n",
      "6/6 [==============================] - 7s 1s/step - loss: 1.4615 - categorical_accuracy: 0.2840\n",
      "Epoch 4/100\n",
      "6/6 [==============================] - 6s 995ms/step - loss: 1.3919 - categorical_accuracy: 0.3210\n",
      "Epoch 5/100\n",
      "6/6 [==============================] - 6s 993ms/step - loss: 1.3480 - categorical_accuracy: 0.4074\n",
      "Epoch 6/100\n",
      "6/6 [==============================] - 6s 1s/step - loss: 1.3369 - categorical_accuracy: 0.3889\n",
      "Epoch 7/100\n",
      "6/6 [==============================] - 6s 967ms/step - loss: 1.3049 - categorical_accuracy: 0.3519\n",
      "Epoch 8/100\n",
      "6/6 [==============================] - 6s 980ms/step - loss: 1.3014 - categorical_accuracy: 0.3086\n",
      "Epoch 9/100\n",
      "6/6 [==============================] - 6s 986ms/step - loss: 1.1736 - categorical_accuracy: 0.5062\n",
      "Epoch 10/100\n",
      "6/6 [==============================] - 7s 1s/step - loss: 1.2021 - categorical_accuracy: 0.4383\n",
      "Epoch 11/100\n",
      "6/6 [==============================] - 6s 1s/step - loss: 1.1577 - categorical_accuracy: 0.4753\n",
      "Epoch 12/100\n",
      "6/6 [==============================] - 7s 1s/step - loss: 1.1459 - categorical_accuracy: 0.5000\n",
      "Epoch 13/100\n",
      "6/6 [==============================] - 7s 1s/step - loss: 1.1065 - categorical_accuracy: 0.5062\n",
      "Epoch 14/100\n",
      "6/6 [==============================] - 7s 1s/step - loss: 1.1383 - categorical_accuracy: 0.4630\n",
      "Epoch 15/100\n",
      "6/6 [==============================] - 7s 1s/step - loss: 1.1029 - categorical_accuracy: 0.4753\n",
      "Epoch 16/100\n",
      "6/6 [==============================] - 7s 1s/step - loss: 0.9585 - categorical_accuracy: 0.5802\n",
      "Epoch 17/100\n",
      "6/6 [==============================] - 6s 1s/step - loss: 0.9243 - categorical_accuracy: 0.6111\n",
      "Epoch 18/100\n",
      "6/6 [==============================] - 6s 1s/step - loss: 0.9273 - categorical_accuracy: 0.5988\n",
      "Epoch 19/100\n",
      "6/6 [==============================] - 6s 993ms/step - loss: 0.9926 - categorical_accuracy: 0.5926\n",
      "Epoch 20/100\n",
      "6/6 [==============================] - 6s 1s/step - loss: 0.9085 - categorical_accuracy: 0.6111\n",
      "Epoch 21/100\n",
      "6/6 [==============================] - 6s 1s/step - loss: 0.8054 - categorical_accuracy: 0.6420\n",
      "Epoch 22/100\n",
      "6/6 [==============================] - 6s 1s/step - loss: 0.7787 - categorical_accuracy: 0.6543\n",
      "Epoch 23/100\n",
      "6/6 [==============================] - 7s 1s/step - loss: 0.6385 - categorical_accuracy: 0.7593\n",
      "Epoch 24/100\n",
      "6/6 [==============================] - 7s 1s/step - loss: 0.6873 - categorical_accuracy: 0.7160\n",
      "Epoch 25/100\n",
      "6/6 [==============================] - 6s 1s/step - loss: 0.7210 - categorical_accuracy: 0.6667\n",
      "Epoch 26/100\n",
      "6/6 [==============================] - 6s 1s/step - loss: 0.5870 - categorical_accuracy: 0.7593\n",
      "Epoch 27/100\n",
      "6/6 [==============================] - 6s 1s/step - loss: 0.5699 - categorical_accuracy: 0.7099\n",
      "Epoch 28/100\n",
      "6/6 [==============================] - 6s 1s/step - loss: 0.4614 - categorical_accuracy: 0.8272\n",
      "Epoch 29/100\n",
      "6/6 [==============================] - 7s 1s/step - loss: 0.4251 - categorical_accuracy: 0.8210\n",
      "Epoch 30/100\n",
      "6/6 [==============================] - 6s 1s/step - loss: 0.4914 - categorical_accuracy: 0.7778\n",
      "Epoch 31/100\n",
      "6/6 [==============================] - 7s 1s/step - loss: 0.3955 - categorical_accuracy: 0.8272\n",
      "Epoch 32/100\n",
      "6/6 [==============================] - 6s 980ms/step - loss: 0.3619 - categorical_accuracy: 0.8457\n",
      "Epoch 33/100\n",
      "6/6 [==============================] - 7s 1s/step - loss: 0.2734 - categorical_accuracy: 0.9136\n",
      "Epoch 34/100\n",
      "6/6 [==============================] - 9s 2s/step - loss: 0.2942 - categorical_accuracy: 0.8827\n",
      "Epoch 35/100\n",
      "6/6 [==============================] - 7s 1s/step - loss: 0.2762 - categorical_accuracy: 0.8827\n",
      "Epoch 36/100\n",
      "6/6 [==============================] - 7s 1s/step - loss: 0.3394 - categorical_accuracy: 0.8457\n",
      "Epoch 37/100\n",
      "6/6 [==============================] - 7s 1s/step - loss: 0.3541 - categorical_accuracy: 0.8642\n",
      "Epoch 38/100\n",
      "6/6 [==============================] - 7s 1s/step - loss: 0.2515 - categorical_accuracy: 0.8889\n",
      "Epoch 39/100\n",
      "6/6 [==============================] - 7s 1s/step - loss: 0.4014 - categorical_accuracy: 0.8272\n",
      "Epoch 40/100\n",
      "6/6 [==============================] - 10s 2s/step - loss: 0.1973 - categorical_accuracy: 0.9444\n",
      "Epoch 41/100\n",
      "6/6 [==============================] - 8s 1s/step - loss: 0.1881 - categorical_accuracy: 0.9259\n",
      "Epoch 42/100\n",
      "6/6 [==============================] - 7s 1s/step - loss: 0.1860 - categorical_accuracy: 0.9136\n",
      "Epoch 43/100\n",
      "6/6 [==============================] - 9s 1s/step - loss: 0.2346 - categorical_accuracy: 0.8951\n",
      "Epoch 44/100\n",
      "6/6 [==============================] - 7s 1s/step - loss: 0.2259 - categorical_accuracy: 0.9136\n",
      "Epoch 45/100\n",
      "6/6 [==============================] - 7s 1s/step - loss: 0.2721 - categorical_accuracy: 0.8951\n",
      "Epoch 46/100\n",
      "6/6 [==============================] - 7s 1s/step - loss: 0.2097 - categorical_accuracy: 0.9198\n",
      "Epoch 47/100\n",
      "6/6 [==============================] - 7s 1s/step - loss: 0.1775 - categorical_accuracy: 0.9259\n",
      "Epoch 48/100\n",
      "6/6 [==============================] - 7s 1s/step - loss: 0.1878 - categorical_accuracy: 0.9383\n",
      "Epoch 49/100\n",
      "6/6 [==============================] - 7s 1s/step - loss: 0.2118 - categorical_accuracy: 0.9074\n",
      "Epoch 50/100\n",
      "6/6 [==============================] - 7s 1s/step - loss: 0.3004 - categorical_accuracy: 0.8704\n",
      "Epoch 51/100\n",
      "6/6 [==============================] - 7s 1s/step - loss: 0.3169 - categorical_accuracy: 0.8704\n",
      "Epoch 52/100\n",
      "6/6 [==============================] - 7s 1s/step - loss: 0.2582 - categorical_accuracy: 0.8827\n",
      "Epoch 53/100\n",
      "6/6 [==============================] - 7s 1s/step - loss: 0.1951 - categorical_accuracy: 0.9136\n",
      "Epoch 54/100\n",
      "6/6 [==============================] - 7s 1s/step - loss: 0.3271 - categorical_accuracy: 0.8642\n",
      "Epoch 55/100\n",
      "6/6 [==============================] - 6s 1s/step - loss: 0.1743 - categorical_accuracy: 0.9259\n",
      "Epoch 56/100\n",
      "6/6 [==============================] - 7s 1s/step - loss: 0.1265 - categorical_accuracy: 0.9568\n",
      "Epoch 57/100\n",
      "6/6 [==============================] - 7s 1s/step - loss: 0.2487 - categorical_accuracy: 0.8827\n",
      "Epoch 58/100\n",
      "6/6 [==============================] - 7s 1s/step - loss: 0.1196 - categorical_accuracy: 0.9506\n",
      "Epoch 59/100\n",
      "6/6 [==============================] - 7s 1s/step - loss: 0.2489 - categorical_accuracy: 0.9012\n",
      "Epoch 60/100\n",
      "6/6 [==============================] - 6s 1s/step - loss: 0.1359 - categorical_accuracy: 0.9383\n",
      "Epoch 61/100\n",
      "6/6 [==============================] - 7s 1s/step - loss: 0.1684 - categorical_accuracy: 0.9383\n",
      "Epoch 62/100\n",
      "6/6 [==============================] - 6s 1s/step - loss: 0.1467 - categorical_accuracy: 0.9383\n",
      "Epoch 63/100\n",
      "6/6 [==============================] - 6s 1s/step - loss: 0.1910 - categorical_accuracy: 0.9012\n",
      "Epoch 64/100\n",
      "6/6 [==============================] - 6s 1s/step - loss: 0.2044 - categorical_accuracy: 0.8827\n",
      "Epoch 65/100\n",
      "6/6 [==============================] - 6s 1s/step - loss: 0.1291 - categorical_accuracy: 0.9506\n",
      "Epoch 66/100\n",
      "6/6 [==============================] - 7s 1s/step - loss: 0.1776 - categorical_accuracy: 0.9259\n",
      "Epoch 67/100\n",
      "6/6 [==============================] - 7s 1s/step - loss: 0.2951 - categorical_accuracy: 0.8704\n",
      "Epoch 68/100\n",
      "6/6 [==============================] - 6s 1s/step - loss: 0.1595 - categorical_accuracy: 0.9321\n",
      "Epoch 69/100\n",
      "6/6 [==============================] - 6s 1s/step - loss: 0.1687 - categorical_accuracy: 0.9321\n",
      "Epoch 70/100\n",
      "6/6 [==============================] - 6s 1s/step - loss: 0.1496 - categorical_accuracy: 0.9321\n",
      "Epoch 71/100\n",
      "6/6 [==============================] - 7s 1s/step - loss: 0.1594 - categorical_accuracy: 0.9444\n",
      "Epoch 72/100\n",
      "6/6 [==============================] - 7s 1s/step - loss: 0.1851 - categorical_accuracy: 0.9012\n",
      "Epoch 73/100\n",
      "6/6 [==============================] - 7s 1s/step - loss: 0.1314 - categorical_accuracy: 0.9383\n",
      "Epoch 74/100\n",
      "6/6 [==============================] - 8s 1s/step - loss: 0.0945 - categorical_accuracy: 0.9691\n",
      "Epoch 75/100\n",
      "6/6 [==============================] - 7s 1s/step - loss: 0.1604 - categorical_accuracy: 0.9136\n",
      "Epoch 76/100\n",
      "6/6 [==============================] - 7s 1s/step - loss: 0.1175 - categorical_accuracy: 0.9506\n",
      "Epoch 77/100\n",
      "6/6 [==============================] - 6s 1s/step - loss: 0.1167 - categorical_accuracy: 0.9506\n",
      "Epoch 78/100\n",
      "6/6 [==============================] - 6s 986ms/step - loss: 0.1594 - categorical_accuracy: 0.9383\n",
      "Epoch 79/100\n",
      "6/6 [==============================] - 6s 997ms/step - loss: 0.0845 - categorical_accuracy: 0.9506\n",
      "Epoch 80/100\n",
      "6/6 [==============================] - 6s 991ms/step - loss: 0.1304 - categorical_accuracy: 0.9321\n",
      "Epoch 81/100\n",
      "6/6 [==============================] - 6s 1s/step - loss: 0.1437 - categorical_accuracy: 0.9321\n",
      "Epoch 82/100\n",
      "6/6 [==============================] - 6s 993ms/step - loss: 0.1306 - categorical_accuracy: 0.9259\n",
      "Epoch 83/100\n",
      "6/6 [==============================] - 6s 977ms/step - loss: 0.1322 - categorical_accuracy: 0.9506\n",
      "Epoch 84/100\n",
      "6/6 [==============================] - 6s 1s/step - loss: 0.1851 - categorical_accuracy: 0.9074\n",
      "Epoch 85/100\n",
      "6/6 [==============================] - 6s 977ms/step - loss: 0.1036 - categorical_accuracy: 0.9630\n",
      "Epoch 86/100\n",
      "6/6 [==============================] - 6s 994ms/step - loss: 0.2091 - categorical_accuracy: 0.8827\n",
      "Epoch 87/100\n",
      "6/6 [==============================] - 6s 980ms/step - loss: 0.0983 - categorical_accuracy: 0.9568\n",
      "Epoch 88/100\n",
      "6/6 [==============================] - 6s 982ms/step - loss: 0.0779 - categorical_accuracy: 0.9630\n",
      "Epoch 89/100\n",
      "6/6 [==============================] - 6s 977ms/step - loss: 0.2030 - categorical_accuracy: 0.9136\n",
      "Epoch 90/100\n",
      "6/6 [==============================] - 6s 1s/step - loss: 0.1540 - categorical_accuracy: 0.9383\n",
      "Epoch 91/100\n",
      "6/6 [==============================] - 7s 1s/step - loss: 0.1063 - categorical_accuracy: 0.9568\n",
      "Epoch 92/100\n",
      "6/6 [==============================] - 7s 1s/step - loss: 0.1772 - categorical_accuracy: 0.8951\n",
      "Epoch 93/100\n",
      "6/6 [==============================] - 7s 1s/step - loss: 0.1654 - categorical_accuracy: 0.9506\n",
      "Epoch 94/100\n",
      "6/6 [==============================] - 6s 1s/step - loss: 0.0958 - categorical_accuracy: 0.9568\n",
      "Epoch 95/100\n",
      "6/6 [==============================] - 6s 1s/step - loss: 0.1490 - categorical_accuracy: 0.9259\n",
      "Epoch 96/100\n",
      "6/6 [==============================] - 7s 1s/step - loss: 0.1533 - categorical_accuracy: 0.9198\n",
      "Epoch 97/100\n",
      "6/6 [==============================] - 6s 1s/step - loss: 0.1115 - categorical_accuracy: 0.9568\n",
      "Epoch 98/100\n",
      "6/6 [==============================] - 6s 990ms/step - loss: 0.0802 - categorical_accuracy: 0.9630\n",
      "Epoch 99/100\n",
      "6/6 [==============================] - 6s 987ms/step - loss: 0.0985 - categorical_accuracy: 0.9444\n",
      "Epoch 100/100\n",
      "6/6 [==============================] - 6s 1s/step - loss: 0.1289 - categorical_accuracy: 0.9321\n"
     ]
    }
   ],
   "source": [
    "adam=Adam()\n",
    "my_first_CNNbis.compile(loss='categorical_crossentropy', optimizer=adam,metrics='categorical_accuracy')\n",
    "History2=my_first_CNNbis.fit(X_test,Y_test,batch_size=32,epochs=100)"
   ]
  },
  {
   "cell_type": "markdown",
   "metadata": {},
   "source": [
    "> Tracer en fonction du nombre d'epochs le risque de cross-entropy ainsi que la précision pour les échantillons d'apprentissage et de validation."
   ]
  },
  {
   "cell_type": "code",
   "execution_count": 42,
   "metadata": {},
   "outputs": [
    {
     "data": {
      "text/plain": [
       "Text(0.5, 1.0, 'Avec la méthode SGD')"
      ]
     },
     "execution_count": 42,
     "metadata": {},
     "output_type": "execute_result"
    },
    {
     "data": {
      "image/png": "[encoded data removed]",
      "text/plain": [
       "<Figure size 432x288 with 1 Axes>"
      ]
     },
     "metadata": {
      "needs_background": "light"
     },
     "output_type": "display_data"
    }
   ],
   "source": [
    "loss = History1.history['loss']\n",
    "precision = History1.history['categorical_accuracy']\n",
    "x = np.arange(1, 101)\n",
    "plt.plot(x, loss, label=\"Risque de cross-entropy\")\n",
    "plt.plot(x, precision, label=\"Précision\")\n",
    "plt.xlabel(\"epochs\")\n",
    "plt.legend()\n",
    "plt.title(\"Avec la méthode SGD\")"
   ]
  },
  {
   "cell_type": "code",
   "execution_count": 43,
   "metadata": {},
   "outputs": [
    {
     "data": {
      "text/plain": [
       "Text(0.5, 1.0, 'Avec la méthode Adam')"
      ]
     },
     "execution_count": 43,
     "metadata": {},
     "output_type": "execute_result"
    },
    {
     "data": {
      "image/png": "[encoded data removed]",
      "text/plain": [
       "<Figure size 432x288 with 1 Axes>"
      ]
     },
     "metadata": {
      "needs_background": "light"
     },
     "output_type": "display_data"
    }
   ],
   "source": [
    "loss=History2.history['loss']\n",
    "precision=History2.history['categorical_accuracy']\n",
    "x=np.arange(1,101)\n",
    "plt.plot(x,loss,label=\"Risque de cross-entropy\")\n",
    "plt.plot(x,precision,label=\"Précision\")\n",
    "plt.xlabel(\"epochs\")\n",
    "plt.legend()\n",
    "plt.title(\"Avec la méthode Adam\")"
   ]
  },
  {
   "cell_type": "markdown",
   "metadata": {},
   "source": [
    "> Donner le risque de cross-entropy ainsi que la précision pour l'échantillon de test."
   ]
  },
  {
   "cell_type": "code",
   "execution_count": 44,
   "metadata": {},
   "outputs": [
    {
     "name": "stdout",
     "output_type": "stream",
     "text": [
      "6/6 [==============================] - 2s 336ms/step - loss: 1.3661 - categorical_accuracy: 0.3395\n",
      "Ajusté avec SGD :  [1.3661166429519653, 0.3395061790943146]\n",
      "6/6 [==============================] - 2s 214ms/step - loss: 0.0675 - categorical_accuracy: 0.9753\n",
      "Ajusté avec Adam :  [0.06752222776412964, 0.9753086566925049]\n"
     ]
    }
   ],
   "source": [
    "print(\"Ajusté avec SGD : \", my_first_CNN.evaluate(X_test,Y_test))\n",
    "print(\"Ajusté avec Adam : \", my_first_CNNbis.evaluate(X_test,Y_test))"
   ]
  },
  {
   "cell_type": "markdown",
   "metadata": {},
   "source": [
    "## Matrice de confusion"
   ]
  },
  {
   "cell_type": "markdown",
   "metadata": {},
   "source": [
    "> Utilisez les outils `classification_report()` et `confusion_matrix()` de `sklearn.metrics` pour décrire les performances du réseau de neurones."
   ]
  },
  {
   "cell_type": "code",
   "execution_count": 45,
   "metadata": {},
   "outputs": [
    {
     "name": "stdout",
     "output_type": "stream",
     "text": [
      "6/6 [==============================] - 2s 258ms/step\n",
      "              precision    recall  f1-score   support\n",
      "\n",
      "           0       1.00      0.89      0.94        38\n",
      "           1       1.00      1.00      1.00        35\n",
      "           2       0.93      1.00      0.96        55\n",
      "           3       1.00      1.00      1.00        34\n",
      "\n",
      "   micro avg       0.98      0.98      0.98       162\n",
      "   macro avg       0.98      0.97      0.98       162\n",
      "weighted avg       0.98      0.98      0.98       162\n",
      " samples avg       0.98      0.98      0.98       162\n",
      "\n"
     ]
    }
   ],
   "source": [
    "from sklearn.metrics import classification_report, confusion_matrix, ConfusionMatrixDisplay\n",
    "Y_pred=my_first_CNNbis.predict(X_test)\n",
    "Y1=[np.argmax(l) for l in Y_pred]\n",
    "Y2=to_categorical(Y1)\n",
    "Y3=[np.argmax(l) for l in Y_test]\n",
    "print(classification_report(Y_test,Y2))"
   ]
  },
  {
   "cell_type": "markdown",
   "metadata": {},
   "source": [
    "> Afficher la matrice de confusion à l'aide de la fonction `ConfusionMatrixDisplay`"
   ]
  },
  {
   "cell_type": "code",
   "execution_count": 46,
   "metadata": {},
   "outputs": [
    {
     "data": {
      "image/png": "[encoded data removed]",
      "text/plain": [
       "<Figure size 432x288 with 2 Axes>"
      ]
     },
     "metadata": {
      "needs_background": "light"
     },
     "output_type": "display_data"
    }
   ],
   "source": [
    "m=confusion_matrix(Y3,Y1)\n",
    "ConfusionMatrixDisplay(m).plot();"
   ]
  },
  {
   "cell_type": "markdown",
   "metadata": {},
   "source": [
    "## Sauvegarde d'un réseau de neurones avec Keras"
   ]
  },
  {
   "cell_type": "markdown",
   "metadata": {},
   "source": [
    "Lorsqu'un modèle a été ajusté, on peut vouloir conserver \n",
    "- l'architecture du réseau\n",
    "- la valeurs des poids des couches\n",
    "- l'optimiseur utilisé pour ajuster les poids \n",
    "- les métriques et les pertes considérées \n",
    "\n",
    "Pour répondre aux questions ci-dessous, vous pourrez consulter cette [page](https://keras.io/guides/serialization_and_saving/) de la documentation qui présente en détail les méthodes pour sauvegarder des réseaux Keras."
   ]
  },
  {
   "cell_type": "markdown",
   "metadata": {},
   "source": [
    "##### Sauvegarde du modèle (architecture seule) en json\n",
    "\n",
    "Dans certaines situations, on ne souhaite sauvegarder que l'architecture. Par exemple si on veut comparer plusieurs méthodes d'optimisation des poids d'un même réseau. Il est possible de sauvegarder l'architecture d'un réseau au format JSON.\n",
    "\n",
    "JavaScript Object Notation (JSON) est un format de données textuelles dérivé de la notation des objets du langage JavaScript. Il permet de représenter de l’information structurée.\n",
    "\n",
    "Un document JSON a pour fonction de représenter de l'information accompagnée d'étiquettes permettant d'en interpréter les divers éléments, sans aucune restriction sur le nombre de celles-ci.\n",
    "\n",
    "Un document JSON ne comprend que deux types d'éléments structurels :\n",
    "+ Des ensembles de paires \"nom\" (alias \"clé\") / \"valeur\" ;\n",
    "+ Des listes ordonnées de valeurs.\n",
    "\n",
    "> Sauver l'architecture du réseau au format json.   \n",
    "> Afficher le contenu du fichier sauvé.   \n",
    "> Quelle est la taille du fichier json sur votre disque ?"
   ]
  },
  {
   "cell_type": "code",
   "execution_count": 47,
   "metadata": {},
   "outputs": [
    {
     "name": "stdout",
     "output_type": "stream",
     "text": [
      "\"{\\\"class_name\\\": \\\"Sequential\\\", \\\"config\\\": {\\\"name\\\": \\\"sequential_5\\\", \\\"layers\\\": [{\\\"module\\\": \\\"keras.layers\\\", \\\"class_name\\\": \\\"InputLayer\\\", \\\"config\\\": {\\\"batch_input_shape\\\": [null, 128, 128, 1], \\\"dtype\\\": \\\"float32\\\", \\\"sparse\\\": false, \\\"ragged\\\": false, \\\"name\\\": \\\"input_6\\\"}, \\\"registered_name\\\": null}, {\\\"module\\\": \\\"keras.layers\\\", \\\"class_name\\\": \\\"Conv2D\\\", \\\"config\\\": {\\\"name\\\": \\\"conv2d_12\\\", \\\"trainable\\\": true, \\\"dtype\\\": \\\"float32\\\", \\\"filters\\\": 32, \\\"kernel_size\\\": [3, 3], \\\"strides\\\": [1, 1], \\\"padding\\\": \\\"valid\\\", \\\"data_format\\\": \\\"channels_last\\\", \\\"dilation_rate\\\": [1, 1], \\\"groups\\\": 1, \\\"activation\\\": \\\"linear\\\", \\\"use_bias\\\": true, \\\"kernel_initializer\\\": {\\\"module\\\": \\\"keras.initializers\\\", \\\"class_name\\\": \\\"GlorotUniform\\\", \\\"config\\\": {\\\"seed\\\": null}, \\\"registered_name\\\": null}, \\\"bias_initializer\\\": {\\\"module\\\": \\\"keras.initializers\\\", \\\"class_name\\\": \\\"Zeros\\\", \\\"config\\\": {}, \\\"registered_name\\\": null}, \\\"kernel_regularizer\\\": null, \\\"bias_regularizer\\\": null, \\\"activity_regularizer\\\": null, \\\"kernel_constraint\\\": null, \\\"bias_constraint\\\": null}, \\\"registered_name\\\": null, \\\"build_config\\\": {\\\"input_shape\\\": [null, 128, 128, 1]}}, {\\\"module\\\": \\\"keras.layers\\\", \\\"class_name\\\": \\\"Activation\\\", \\\"config\\\": {\\\"name\\\": \\\"activation_12\\\", \\\"trainable\\\": true, \\\"dtype\\\": \\\"float32\\\", \\\"activation\\\": \\\"relu\\\"}, \\\"registered_name\\\": null, \\\"build_config\\\": {\\\"input_shape\\\": [null, 126, 126, 32]}}, {\\\"module\\\": \\\"keras.layers\\\", \\\"class_name\\\": \\\"Conv2D\\\", \\\"config\\\": {\\\"name\\\": \\\"conv2d_13\\\", \\\"trainable\\\": true, \\\"dtype\\\": \\\"float32\\\", \\\"filters\\\": 32, \\\"kernel_size\\\": [3, 3], \\\"strides\\\": [1, 1], \\\"padding\\\": \\\"valid\\\", \\\"data_format\\\": \\\"channels_last\\\", \\\"dilation_rate\\\": [1, 1], \\\"groups\\\": 1, \\\"activation\\\": \\\"linear\\\", \\\"use_bias\\\": true, \\\"kernel_initializer\\\": {\\\"module\\\": \\\"keras.initializers\\\", \\\"class_name\\\": \\\"GlorotUniform\\\", \\\"config\\\": {\\\"seed\\\": null}, \\\"registered_name\\\": null}, \\\"bias_initializer\\\": {\\\"module\\\": \\\"keras.initializers\\\", \\\"class_name\\\": \\\"Zeros\\\", \\\"config\\\": {}, \\\"registered_name\\\": null}, \\\"kernel_regularizer\\\": null, \\\"bias_regularizer\\\": null, \\\"activity_regularizer\\\": null, \\\"kernel_constraint\\\": null, \\\"bias_constraint\\\": null}, \\\"registered_name\\\": null, \\\"build_config\\\": {\\\"input_shape\\\": [null, 126, 126, 32]}}, {\\\"module\\\": \\\"keras.layers\\\", \\\"class_name\\\": \\\"Activation\\\", \\\"config\\\": {\\\"name\\\": \\\"activation_13\\\", \\\"trainable\\\": true, \\\"dtype\\\": \\\"float32\\\", \\\"activation\\\": \\\"relu\\\"}, \\\"registered_name\\\": null, \\\"build_config\\\": {\\\"input_shape\\\": [null, 124, 124, 32]}}, {\\\"module\\\": \\\"keras.layers\\\", \\\"class_name\\\": \\\"MaxPooling2D\\\", \\\"config\\\": {\\\"name\\\": \\\"max_pooling2d_4\\\", \\\"trainable\\\": true, \\\"dtype\\\": \\\"float32\\\", \\\"pool_size\\\": [2, 2], \\\"padding\\\": \\\"valid\\\", \\\"strides\\\": [2, 2], \\\"data_format\\\": \\\"channels_last\\\"}, \\\"registered_name\\\": null, \\\"build_config\\\": {\\\"input_shape\\\": [null, 124, 124, 32]}}, {\\\"module\\\": \\\"keras.layers\\\", \\\"class_name\\\": \\\"Dropout\\\", \\\"config\\\": {\\\"name\\\": \\\"dropout_6\\\", \\\"trainable\\\": true, \\\"dtype\\\": \\\"float32\\\", \\\"rate\\\": 0.5, \\\"noise_shape\\\": null, \\\"seed\\\": null}, \\\"registered_name\\\": null, \\\"build_config\\\": {\\\"input_shape\\\": [null, 62, 62, 32]}}, {\\\"module\\\": \\\"keras.layers\\\", \\\"class_name\\\": \\\"Conv2D\\\", \\\"config\\\": {\\\"name\\\": \\\"conv2d_14\\\", \\\"trainable\\\": true, \\\"dtype\\\": \\\"float32\\\", \\\"filters\\\": 64, \\\"kernel_size\\\": [3, 3], \\\"strides\\\": [1, 1], \\\"padding\\\": \\\"valid\\\", \\\"data_format\\\": \\\"channels_last\\\", \\\"dilation_rate\\\": [1, 1], \\\"groups\\\": 1, \\\"activation\\\": \\\"linear\\\", \\\"use_bias\\\": true, \\\"kernel_initializer\\\": {\\\"module\\\": \\\"keras.initializers\\\", \\\"class_name\\\": \\\"GlorotUniform\\\", \\\"config\\\": {\\\"seed\\\": null}, \\\"registered_name\\\": null}, \\\"bias_initializer\\\": {\\\"module\\\": \\\"keras.initializers\\\", \\\"class_name\\\": \\\"Zeros\\\", \\\"config\\\": {}, \\\"registered_name\\\": null}, \\\"kernel_regularizer\\\": null, \\\"bias_regularizer\\\": null, \\\"activity_regularizer\\\": null, \\\"kernel_constraint\\\": null, \\\"bias_constraint\\\": null}, \\\"registered_name\\\": null, \\\"build_config\\\": {\\\"input_shape\\\": [null, 62, 62, 32]}}, {\\\"module\\\": \\\"keras.layers\\\", \\\"class_name\\\": \\\"MaxPooling2D\\\", \\\"config\\\": {\\\"name\\\": \\\"max_pooling2d_5\\\", \\\"trainable\\\": true, \\\"dtype\\\": \\\"float32\\\", \\\"pool_size\\\": [2, 2], \\\"padding\\\": \\\"valid\\\", \\\"strides\\\": [2, 2], \\\"data_format\\\": \\\"channels_last\\\"}, \\\"registered_name\\\": null, \\\"build_config\\\": {\\\"input_shape\\\": [null, 60, 60, 64]}}, {\\\"module\\\": \\\"keras.layers\\\", \\\"class_name\\\": \\\"Dropout\\\", \\\"config\\\": {\\\"name\\\": \\\"dropout_7\\\", \\\"trainable\\\": true, \\\"dtype\\\": \\\"float32\\\", \\\"rate\\\": 0.5, \\\"noise_shape\\\": null, \\\"seed\\\": null}, \\\"registered_name\\\": null, \\\"build_config\\\": {\\\"input_shape\\\": [null, 30, 30, 64]}}, {\\\"module\\\": \\\"keras.layers\\\", \\\"class_name\\\": \\\"Flatten\\\", \\\"config\\\": {\\\"name\\\": \\\"flatten_2\\\", \\\"trainable\\\": true, \\\"dtype\\\": \\\"float32\\\", \\\"data_format\\\": \\\"channels_last\\\"}, \\\"registered_name\\\": null, \\\"build_config\\\": {\\\"input_shape\\\": [null, 30, 30, 64]}}, {\\\"module\\\": \\\"keras.layers\\\", \\\"class_name\\\": \\\"Dense\\\", \\\"config\\\": {\\\"name\\\": \\\"dense_4\\\", \\\"trainable\\\": true, \\\"dtype\\\": \\\"float32\\\", \\\"units\\\": 64, \\\"activation\\\": \\\"linear\\\", \\\"use_bias\\\": true, \\\"kernel_initializer\\\": {\\\"module\\\": \\\"keras.initializers\\\", \\\"class_name\\\": \\\"GlorotUniform\\\", \\\"config\\\": {\\\"seed\\\": null}, \\\"registered_name\\\": null}, \\\"bias_initializer\\\": {\\\"module\\\": \\\"keras.initializers\\\", \\\"class_name\\\": \\\"Zeros\\\", \\\"config\\\": {}, \\\"registered_name\\\": null}, \\\"kernel_regularizer\\\": null, \\\"bias_regularizer\\\": null, \\\"activity_regularizer\\\": null, \\\"kernel_constraint\\\": null, \\\"bias_constraint\\\": null}, \\\"registered_name\\\": null, \\\"build_config\\\": {\\\"input_shape\\\": [null, 57600]}}, {\\\"module\\\": \\\"keras.layers\\\", \\\"class_name\\\": \\\"Activation\\\", \\\"config\\\": {\\\"name\\\": \\\"activation_14\\\", \\\"trainable\\\": true, \\\"dtype\\\": \\\"float32\\\", \\\"activation\\\": \\\"relu\\\"}, \\\"registered_name\\\": null, \\\"build_config\\\": {\\\"input_shape\\\": [null, 64]}}, {\\\"module\\\": \\\"keras.layers\\\", \\\"class_name\\\": \\\"Dropout\\\", \\\"config\\\": {\\\"name\\\": \\\"dropout_8\\\", \\\"trainable\\\": true, \\\"dtype\\\": \\\"float32\\\", \\\"rate\\\": 0.5, \\\"noise_shape\\\": null, \\\"seed\\\": null}, \\\"registered_name\\\": null, \\\"build_config\\\": {\\\"input_shape\\\": [null, 64]}}, {\\\"module\\\": \\\"keras.layers\\\", \\\"class_name\\\": \\\"Dense\\\", \\\"config\\\": {\\\"name\\\": \\\"dense_5\\\", \\\"trainable\\\": true, \\\"dtype\\\": \\\"float32\\\", \\\"units\\\": 4, \\\"activation\\\": \\\"linear\\\", \\\"use_bias\\\": true, \\\"kernel_initializer\\\": {\\\"module\\\": \\\"keras.initializers\\\", \\\"class_name\\\": \\\"GlorotUniform\\\", \\\"config\\\": {\\\"seed\\\": null}, \\\"registered_name\\\": null}, \\\"bias_initializer\\\": {\\\"module\\\": \\\"keras.initializers\\\", \\\"class_name\\\": \\\"Zeros\\\", \\\"config\\\": {}, \\\"registered_name\\\": null}, \\\"kernel_regularizer\\\": null, \\\"bias_regularizer\\\": null, \\\"activity_regularizer\\\": null, \\\"kernel_constraint\\\": null, \\\"bias_constraint\\\": null}, \\\"registered_name\\\": null, \\\"build_config\\\": {\\\"input_shape\\\": [null, 64]}}, {\\\"module\\\": \\\"keras.layers\\\", \\\"class_name\\\": \\\"Softmax\\\", \\\"config\\\": {\\\"name\\\": \\\"softmax_1\\\", \\\"trainable\\\": true, \\\"dtype\\\": \\\"float32\\\", \\\"axis\\\": -1}, \\\"registered_name\\\": null, \\\"build_config\\\": {\\\"input_shape\\\": [null, 4]}}]}, \\\"keras_version\\\": \\\"2.14.0\\\", \\\"backend\\\": \\\"tensorflow\\\"}\"\n"
     ]
    }
   ],
   "source": [
    "my_json=my_first_CNNbis.to_json()\n",
    "from json import dump, loads\n",
    "f= open('data.json', 'w')\n",
    "dump(my_json, f)\n",
    "f=open('data.json','r')\n",
    "print(f.read())"
   ]
  },
  {
   "cell_type": "markdown",
   "metadata": {},
   "source": [
    "La taille du fichier json est de 5Kb."
   ]
  },
  {
   "cell_type": "markdown",
   "metadata": {},
   "source": [
    "##### Sauvegarde et chargement du modèle complet entrainé"
   ]
  },
  {
   "cell_type": "markdown",
   "metadata": {},
   "source": [
    "> Utiliser les fonctions `model.save()` et `load_model()` pour sauver et charger un modèle complet (architecture, poids, optimiseur, métriques). Quelle est la taille du répertoire créé pour cette sauvegarde ?"
   ]
  },
  {
   "cell_type": "code",
   "execution_count": 49,
   "metadata": {},
   "outputs": [
    {
     "name": "stdout",
     "output_type": "stream",
     "text": [
      "INFO:tensorflow:Assets written to: model\\assets\n"
     ]
    },
    {
     "name": "stderr",
     "output_type": "stream",
     "text": [
      "INFO:tensorflow:Assets written to: model\\assets\n"
     ]
    }
   ],
   "source": [
    "from tensorflow.keras.models import  load_model\n",
    "my_first_CNNbis.save(\"model\")\n",
    "model=load_model(\"model\")"
   ]
  },
  {
   "cell_type": "markdown",
   "metadata": {},
   "source": [
    "> Comparer les poids du réseau reconstruit aux poids du réseau originel."
   ]
  },
  {
   "cell_type": "code",
   "execution_count": 50,
   "metadata": {},
   "outputs": [
    {
     "name": "stdout",
     "output_type": "stream",
     "text": [
      "0\n"
     ]
    }
   ],
   "source": [
    "\n",
    "max_norm = 0\n",
    "layer_indices = [0, 2, 6, 10, 13]\n",
    "\n",
    "for i in layer_indices:\n",
    "    weights_my_first_CNNbis = my_first_CNNbis.layers[i].get_weights()[0]\n",
    "    weights_model = model.layers[i].get_weights()[0]\n",
    "\n",
    "    weight_diff = weights_my_first_CNNbis - weights_model\n",
    "    norm = np.linalg.norm(weight_diff)\n",
    "\n",
    "    if norm > max_norm:\n",
    "        max_norm = norm\n",
    "\n",
    "print(max_norm)"
   ]
  },
  {
   "cell_type": "markdown",
   "metadata": {},
   "source": [
    "Les poids des réseaux reconstruit et original sont identiques."
   ]
  },
  {
   "cell_type": "markdown",
   "metadata": {},
   "source": [
    "> Vérifier que le modèle chargé peut être directement utilisé pour faire des prédictions ou pour calculer un score."
   ]
  },
  {
   "cell_type": "code",
   "execution_count": 51,
   "metadata": {},
   "outputs": [
    {
     "name": "stdout",
     "output_type": "stream",
     "text": [
      "6/6 [==============================] - 2s 277ms/step\n"
     ]
    },
    {
     "data": {
      "text/plain": [
       "array([[1.12240626e-08, 9.71247017e-01, 2.85153408e-02, 2.37600965e-04],\n",
       "       [2.36808688e-08, 5.09738925e-07, 9.99999285e-01, 1.81386767e-07],\n",
       "       [2.77319820e-08, 9.99154568e-01, 8.44829425e-04, 5.64609991e-07],\n",
       "       [9.94319439e-01, 2.93978694e-04, 4.69984300e-03, 6.86803076e-04],\n",
       "       [3.56199402e-12, 4.56828542e-12, 1.00000000e+00, 9.13361817e-11],\n",
       "       [2.58591747e-16, 1.76720286e-28, 1.00000000e+00, 2.04011948e-16],\n",
       "       [9.99999881e-01, 7.38744745e-08, 1.68621010e-08, 9.85461757e-09],\n",
       "       [4.83643204e-12, 4.99681776e-18, 1.00000000e+00, 3.37389323e-13],\n",
       "       [1.45181345e-09, 2.75734067e-08, 1.00000000e+00, 3.12666271e-09],\n",
       "       [3.54855501e-07, 9.99999642e-01, 4.34844978e-08, 6.68721079e-09],\n",
       "       [2.76495830e-14, 8.66466651e-20, 1.00000000e+00, 1.83389744e-11],\n",
       "       [3.57244616e-15, 1.00000000e+00, 5.30543325e-08, 1.34028988e-09],\n",
       "       [1.73413559e-04, 9.96419430e-01, 4.07974556e-04, 2.99917837e-03],\n",
       "       [7.30691549e-11, 6.08205457e-17, 1.00000000e+00, 1.04398200e-13],\n",
       "       [1.39401601e-09, 3.57515302e-11, 1.18754944e-08, 1.00000000e+00],\n",
       "       [2.63205671e-04, 1.52079820e-05, 9.99564111e-01, 1.57415547e-04],\n",
       "       [5.77889195e-11, 9.99270141e-01, 7.29778316e-04, 1.17295983e-07],\n",
       "       [7.96736028e-12, 3.81089122e-13, 1.00000000e+00, 1.16509219e-10],\n",
       "       [9.99987602e-01, 1.07291544e-05, 5.85368866e-07, 1.08391305e-06],\n",
       "       [7.36635492e-12, 1.63622171e-11, 2.89130681e-11, 1.00000000e+00],\n",
       "       [3.14730420e-09, 9.82155502e-01, 1.66804716e-02, 1.16401212e-03],\n",
       "       [6.05381656e-09, 2.92637248e-10, 3.45815650e-12, 1.00000000e+00],\n",
       "       [1.34662995e-12, 5.58943701e-15, 5.10796405e-10, 1.00000000e+00],\n",
       "       [1.29808171e-03, 4.78142028e-05, 9.98434365e-01, 2.19728347e-04],\n",
       "       [7.78321643e-11, 9.38125022e-10, 1.00000000e+00, 8.79935236e-09],\n",
       "       [1.00000000e+00, 1.15328689e-08, 9.19819065e-09, 4.43017151e-10],\n",
       "       [2.34168046e-10, 2.99851151e-11, 7.68895989e-11, 1.00000000e+00],\n",
       "       [3.71078613e-06, 9.80411291e-01, 1.80079732e-02, 1.57692784e-03],\n",
       "       [9.99999404e-01, 2.59461018e-13, 1.08026384e-07, 5.22058031e-07],\n",
       "       [1.58769282e-08, 9.99944568e-01, 5.52804559e-05, 1.18934970e-07],\n",
       "       [1.38138660e-07, 5.16187579e-11, 9.99999762e-01, 9.68337091e-08],\n",
       "       [5.99372372e-14, 3.05052257e-18, 1.00000000e+00, 3.76618958e-10],\n",
       "       [9.99867201e-01, 1.37518114e-07, 7.10623717e-05, 6.15928002e-05],\n",
       "       [1.07483232e-11, 3.55407740e-14, 1.00000000e+00, 1.53753330e-08],\n",
       "       [8.96514460e-11, 2.67232606e-13, 1.00000000e+00, 1.47624989e-12],\n",
       "       [5.26846171e-11, 9.99865413e-01, 1.34528367e-04, 9.70378800e-09],\n",
       "       [1.00000000e+00, 1.84918893e-13, 6.67579707e-12, 1.30578043e-13],\n",
       "       [8.35075014e-07, 2.06463483e-07, 9.99998569e-01, 3.50732279e-07],\n",
       "       [9.99810517e-01, 9.14112125e-19, 1.89456579e-04, 5.20432378e-11],\n",
       "       [3.14417817e-13, 9.99999881e-01, 7.11327885e-08, 4.23387938e-08],\n",
       "       [1.10320265e-14, 2.42795695e-16, 1.95276778e-13, 1.00000000e+00],\n",
       "       [8.29872455e-12, 3.66606835e-19, 1.00000000e+00, 2.12980632e-15],\n",
       "       [3.62390465e-11, 1.22068008e-10, 1.09170550e-09, 1.00000000e+00],\n",
       "       [3.73134190e-09, 2.95687017e-11, 1.00000000e+00, 4.30822572e-10],\n",
       "       [1.68059474e-19, 8.86239370e-21, 7.43826794e-14, 1.00000000e+00],\n",
       "       [6.12087048e-10, 9.99118149e-01, 8.77780782e-04, 4.06383424e-06],\n",
       "       [8.53431931e-24, 1.11836700e-23, 2.02251948e-11, 1.00000000e+00],\n",
       "       [3.97382349e-01, 3.97691159e-15, 6.02617502e-01, 1.24480408e-07],\n",
       "       [2.74935942e-11, 2.52211641e-15, 1.00000000e+00, 1.12225583e-12],\n",
       "       [9.99674916e-01, 1.47925566e-05, 3.01473745e-04, 8.80077550e-06],\n",
       "       [6.11637130e-10, 1.27403615e-10, 1.47297399e-07, 9.99999881e-01],\n",
       "       [1.77226098e-11, 2.19267271e-09, 1.00000000e+00, 3.45667606e-10],\n",
       "       [8.61524522e-01, 1.80002025e-04, 1.38289422e-01, 6.12108715e-06],\n",
       "       [1.56483146e-08, 1.27663144e-10, 3.30780608e-07, 9.99999642e-01],\n",
       "       [2.64067130e-05, 1.00490490e-06, 9.99971151e-01, 1.40283589e-06],\n",
       "       [3.58813760e-12, 8.85197552e-16, 1.00000000e+00, 4.37007319e-10],\n",
       "       [1.21078449e-06, 7.84577026e-09, 1.64743650e-08, 9.99998808e-01],\n",
       "       [9.99821842e-01, 1.39845158e-09, 1.78225091e-04, 2.38844722e-10],\n",
       "       [3.96128747e-14, 9.99829173e-01, 1.70750121e-04, 1.24471553e-08],\n",
       "       [9.99999762e-01, 1.41949457e-07, 6.56595844e-08, 1.04299680e-09],\n",
       "       [8.82108055e-20, 1.42640653e-14, 1.00000000e+00, 1.30435525e-15],\n",
       "       [1.43723089e-10, 9.99999046e-01, 9.76024808e-07, 2.83734387e-08],\n",
       "       [5.61998353e-17, 2.32522461e-19, 1.76457355e-08, 1.00000000e+00],\n",
       "       [1.57731746e-17, 1.51214158e-18, 1.00000000e+00, 1.23457156e-11],\n",
       "       [1.00000000e+00, 7.51863183e-10, 1.38956679e-09, 1.21813974e-11],\n",
       "       [9.72161750e-17, 1.86401600e-24, 1.00000000e+00, 7.63637675e-14],\n",
       "       [9.98364747e-01, 2.24417858e-12, 1.63524866e-03, 2.55128940e-09],\n",
       "       [5.18118952e-07, 3.95650318e-10, 9.99999523e-01, 1.00011995e-11],\n",
       "       [9.44703400e-01, 5.07763550e-02, 5.12806673e-06, 4.51504113e-03],\n",
       "       [1.19846928e-12, 6.66481628e-16, 1.00000000e+00, 1.82122492e-13],\n",
       "       [2.86760698e-12, 4.14363774e-14, 4.25879110e-09, 1.00000000e+00],\n",
       "       [4.92225008e-14, 4.74001616e-10, 2.19555485e-10, 1.00000000e+00],\n",
       "       [2.08097546e-07, 1.52820545e-09, 1.51956193e-12, 9.99999762e-01],\n",
       "       [9.99996662e-01, 2.97638975e-13, 3.19510673e-06, 9.39521243e-08],\n",
       "       [1.77464068e-13, 5.26675036e-18, 1.00000000e+00, 1.13052070e-12],\n",
       "       [9.99885798e-01, 7.81472522e-07, 1.13411515e-04, 3.01353893e-08],\n",
       "       [1.83012663e-08, 2.82750993e-11, 8.11955836e-09, 1.00000000e+00],\n",
       "       [3.85340482e-01, 2.05239831e-15, 6.14645302e-01, 1.42272002e-05],\n",
       "       [9.99999404e-01, 4.98515305e-07, 7.05035816e-08, 7.48873294e-13],\n",
       "       [9.88696694e-01, 2.67834985e-04, 1.07140234e-02, 3.21468193e-04],\n",
       "       [8.61534834e-01, 3.17786963e-10, 1.38443425e-01, 2.17426004e-05],\n",
       "       [4.51290097e-20, 3.16077632e-23, 2.62482345e-11, 1.00000000e+00],\n",
       "       [2.24807373e-09, 9.99712646e-01, 2.62773741e-04, 2.45899228e-05],\n",
       "       [8.51963000e-10, 9.99984860e-01, 1.51695713e-05, 4.10667909e-08],\n",
       "       [7.21338552e-07, 5.88667379e-11, 4.30173773e-13, 9.99999285e-01],\n",
       "       [3.77125496e-15, 1.05686210e-10, 1.00000000e+00, 3.89353545e-08],\n",
       "       [2.42926380e-05, 9.99889731e-01, 6.45818654e-05, 2.13186431e-05],\n",
       "       [9.56648364e-07, 9.99998927e-01, 1.57581738e-07, 1.45703768e-10],\n",
       "       [3.74395907e-01, 5.04762397e-07, 5.03767014e-01, 1.21836655e-01],\n",
       "       [3.42345641e-09, 1.80890323e-13, 9.99999642e-01, 3.25406774e-07],\n",
       "       [9.86139894e-01, 1.32066850e-03, 1.14488741e-02, 1.09052355e-03],\n",
       "       [1.86505904e-08, 3.28744254e-10, 1.00000000e+00, 1.02920665e-10],\n",
       "       [4.70321160e-09, 9.97586250e-01, 2.36152858e-03, 5.22318296e-05],\n",
       "       [1.11908536e-13, 1.49545459e-10, 4.82568829e-08, 1.00000000e+00],\n",
       "       [9.99999881e-01, 5.60887725e-10, 7.94972195e-08, 1.28080825e-12],\n",
       "       [1.33960881e-07, 3.10369135e-13, 9.99999881e-01, 1.02856534e-09],\n",
       "       [9.20843568e-10, 9.99999881e-01, 1.35231900e-07, 2.59169242e-10],\n",
       "       [9.07589853e-01, 7.26423711e-02, 1.25227616e-05, 1.97551753e-02],\n",
       "       [1.32138936e-07, 4.40182309e-12, 9.99999762e-01, 6.42707150e-08],\n",
       "       [6.94323932e-09, 9.64626491e-01, 3.08275782e-02, 4.54589538e-03],\n",
       "       [9.32819843e-01, 4.42394366e-06, 6.59448504e-02, 1.23092823e-03],\n",
       "       [1.33214773e-08, 3.80090484e-08, 3.40612161e-08, 1.00000000e+00],\n",
       "       [4.31239577e-09, 1.00426105e-10, 9.99999881e-01, 9.83085471e-08],\n",
       "       [2.38164599e-08, 1.27625246e-13, 1.00000000e+00, 1.49130326e-08],\n",
       "       [1.15574260e-11, 1.35351230e-13, 1.00000000e+00, 2.37934456e-15],\n",
       "       [1.53762883e-07, 2.98594546e-06, 9.99996781e-01, 1.20318447e-07],\n",
       "       [7.78615892e-01, 4.10066958e-09, 2.21383840e-01, 2.66543680e-07],\n",
       "       [1.17097620e-03, 2.00575574e-08, 9.98171568e-01, 6.57353492e-04],\n",
       "       [1.00094949e-04, 9.97380994e-05, 1.14452014e-07, 9.99800026e-01],\n",
       "       [2.01355688e-09, 5.49568740e-16, 1.00000000e+00, 2.32543672e-12],\n",
       "       [1.50507114e-15, 4.79276098e-18, 1.00000000e+00, 1.25179479e-16],\n",
       "       [5.20741245e-15, 9.99963284e-01, 3.66724671e-05, 2.48495752e-10],\n",
       "       [4.54409239e-08, 1.30393266e-11, 1.00000000e+00, 4.76414408e-10],\n",
       "       [9.24780599e-11, 3.98255945e-13, 1.00000000e+00, 2.96169469e-12],\n",
       "       [5.73466676e-13, 1.59291512e-13, 5.98783662e-11, 1.00000000e+00],\n",
       "       [5.83425503e-07, 9.99979019e-01, 1.99870883e-05, 3.18256809e-07],\n",
       "       [1.39003540e-11, 9.99996781e-01, 3.17364857e-06, 7.72453768e-11],\n",
       "       [9.86671865e-01, 1.87007809e-05, 1.30291674e-02, 2.80272798e-04],\n",
       "       [3.33652411e-11, 3.43784098e-16, 1.00000000e+00, 3.22465527e-11],\n",
       "       [9.98764992e-01, 1.16758429e-06, 1.15211273e-03, 8.16957327e-05],\n",
       "       [1.00000000e+00, 8.04484170e-12, 2.12603517e-08, 4.21670976e-10],\n",
       "       [2.11894394e-06, 8.02321553e-01, 4.62094434e-02, 1.51466936e-01],\n",
       "       [8.56316598e-15, 9.99959469e-01, 4.05658648e-05, 8.46562465e-09],\n",
       "       [1.96346717e-10, 1.00000000e+00, 3.85366627e-09, 3.08910579e-12],\n",
       "       [9.99972463e-01, 2.39826804e-05, 1.23564325e-06, 2.35147400e-06],\n",
       "       [3.81221221e-10, 6.82891041e-08, 2.68710765e-09, 9.99999881e-01],\n",
       "       [1.05335201e-13, 9.99999285e-01, 7.43622536e-07, 1.84897692e-12],\n",
       "       [1.78630022e-09, 9.87344027e-01, 1.26538128e-02, 2.16449212e-06],\n",
       "       [1.12226929e-11, 6.45942311e-14, 1.00000000e+00, 3.34617533e-13],\n",
       "       [1.15574260e-11, 1.35351230e-13, 1.00000000e+00, 2.37934456e-15],\n",
       "       [9.99998689e-01, 7.48597920e-11, 1.36321046e-06, 2.77849410e-10],\n",
       "       [1.10883004e-12, 3.84814014e-14, 5.40248113e-09, 1.00000000e+00],\n",
       "       [1.64561054e-09, 9.48078930e-01, 5.00043407e-02, 1.91670679e-03],\n",
       "       [2.51454205e-11, 2.63587863e-09, 1.00000000e+00, 1.05661924e-08],\n",
       "       [3.62692271e-13, 4.78151060e-11, 2.69983449e-08, 1.00000000e+00],\n",
       "       [9.69893335e-07, 1.10087071e-10, 9.99999046e-01, 2.18005192e-09],\n",
       "       [1.60339169e-07, 9.99714553e-01, 2.52645084e-04, 3.26974332e-05],\n",
       "       [5.09492804e-09, 2.72643822e-12, 1.00000000e+00, 3.88435561e-10],\n",
       "       [2.88219239e-16, 3.90066401e-19, 1.00000000e+00, 1.41899990e-12],\n",
       "       [2.62055333e-09, 9.99999642e-01, 3.12760733e-07, 1.96247174e-09],\n",
       "       [9.63108897e-01, 7.62345851e-04, 3.42914015e-02, 1.83735252e-03],\n",
       "       [2.13737583e-09, 6.45504805e-09, 9.99998927e-01, 1.02857177e-06],\n",
       "       [1.34354545e-04, 1.55086415e-08, 9.99861002e-01, 4.63083325e-06],\n",
       "       [6.25407670e-10, 5.89746163e-09, 1.96974173e-11, 1.00000000e+00],\n",
       "       [2.84452954e-17, 3.87642974e-17, 1.84810407e-08, 1.00000000e+00],\n",
       "       [9.21999188e-08, 3.44437174e-12, 9.99999881e-01, 8.28250385e-11],\n",
       "       [8.53431931e-24, 1.11836700e-23, 2.02251948e-11, 1.00000000e+00],\n",
       "       [1.61622798e-11, 7.94301853e-13, 4.63906864e-11, 1.00000000e+00],\n",
       "       [7.64819597e-11, 4.91872767e-19, 1.00000000e+00, 8.48033939e-19],\n",
       "       [5.10550456e-12, 8.88922697e-17, 1.00000000e+00, 2.22395453e-13],\n",
       "       [9.92874849e-09, 8.42749834e-01, 1.56193495e-01, 1.05666206e-03],\n",
       "       [2.54179281e-06, 9.99920726e-01, 7.55506335e-05, 1.24591747e-06],\n",
       "       [1.28858517e-07, 1.56478308e-09, 9.99999762e-01, 9.92621167e-08],\n",
       "       [3.98659026e-08, 4.16863294e-10, 1.42077990e-11, 1.00000000e+00],\n",
       "       [5.35981592e-10, 6.54171744e-14, 1.27526928e-05, 9.99987245e-01],\n",
       "       [9.99806702e-01, 2.82819474e-06, 5.02763105e-05, 1.40251970e-04],\n",
       "       [4.79768059e-10, 9.97726619e-01, 2.27078260e-03, 2.59519902e-06],\n",
       "       [1.00000000e+00, 6.61903110e-09, 8.64497185e-09, 1.47465012e-10],\n",
       "       [1.12097609e-09, 4.09138765e-11, 9.99996185e-01, 3.82046801e-06],\n",
       "       [2.72290576e-11, 5.52195110e-14, 8.28822497e-11, 1.00000000e+00],\n",
       "       [8.45479349e-07, 4.32331893e-10, 8.80844443e-13, 9.99999166e-01],\n",
       "       [9.99997616e-01, 1.49235120e-06, 6.18309571e-07, 3.55190309e-07]],\n",
       "      dtype=float32)"
      ]
     },
     "execution_count": 51,
     "metadata": {},
     "output_type": "execute_result"
    }
   ],
   "source": [
    "model.predict(X_test)"
   ]
  },
  {
   "cell_type": "code",
   "execution_count": 52,
   "metadata": {},
   "outputs": [
    {
     "name": "stdout",
     "output_type": "stream",
     "text": [
      "6/6 [==============================] - 2s 233ms/step - loss: 0.0675 - categorical_accuracy: 0.9753\n"
     ]
    },
    {
     "data": {
      "text/plain": [
       "[0.06752222776412964, 0.9753086566925049]"
      ]
     },
     "execution_count": 52,
     "metadata": {},
     "output_type": "execute_result"
    }
   ],
   "source": [
    "model.evaluate(X_test,Y_test)"
   ]
  },
  {
   "cell_type": "markdown",
   "metadata": {},
   "source": [
    "## Bonus : ajustement du modèle sur Google Colab\n",
    "\n",
    "> Ajuster ce modèle CNN (ou évenuellement un modèle plus profond) sur [Google Colab](https://colab.research.google.com/notebooks) (ou sur [Binder](https://mybinder.org/)). \n",
    "> Il vous faudra telecharger les données sur Colab et adapter les codes du TP pour l'importation des images, plusieurs solutions sont possibles, voir par exemple\n",
    "[ici](https://towardsdatascience.com/importing-data-to-google-colab-the-clean-way-5ceef9e9e3c8])."
   ]
  }
 ],
 "metadata": {
  "kernelspec": {
   "display_name": "Python 3 (ipykernel)",
   "language": "python",
   "name": "python3"
  },
  "language_info": {
   "codemirror_mode": {
    "name": "ipython",
    "version": 3
   },
   "file_extension": ".py",
   "mimetype": "text/x-python",
   "name": "python",
   "nbconvert_exporter": "python",
   "pygments_lexer": "ipython3",
   "version": "3.9.12"
  }
 },
 "nbformat": 4,
 "nbformat_minor": 4
}
